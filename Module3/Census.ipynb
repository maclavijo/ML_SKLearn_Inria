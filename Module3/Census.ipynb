{
 "cells": [
  {
   "cell_type": "code",
   "execution_count": 26,
   "id": "0f9119cf",
   "metadata": {},
   "outputs": [
    {
     "data": {
      "text/html": [
       "<div>\n",
       "<style scoped>\n",
       "    .dataframe tbody tr th:only-of-type {\n",
       "        vertical-align: middle;\n",
       "    }\n",
       "\n",
       "    .dataframe tbody tr th {\n",
       "        vertical-align: top;\n",
       "    }\n",
       "\n",
       "    .dataframe thead th {\n",
       "        text-align: right;\n",
       "    }\n",
       "</style>\n",
       "<table border=\"1\" class=\"dataframe\">\n",
       "  <thead>\n",
       "    <tr style=\"text-align: right;\">\n",
       "      <th></th>\n",
       "      <th>age</th>\n",
       "      <th>capital-gain</th>\n",
       "      <th>capital-loss</th>\n",
       "      <th>hours-per-week</th>\n",
       "    </tr>\n",
       "  </thead>\n",
       "  <tbody>\n",
       "    <tr>\n",
       "      <th>0</th>\n",
       "      <td>25</td>\n",
       "      <td>0</td>\n",
       "      <td>0</td>\n",
       "      <td>40</td>\n",
       "    </tr>\n",
       "    <tr>\n",
       "      <th>1</th>\n",
       "      <td>38</td>\n",
       "      <td>0</td>\n",
       "      <td>0</td>\n",
       "      <td>50</td>\n",
       "    </tr>\n",
       "    <tr>\n",
       "      <th>2</th>\n",
       "      <td>28</td>\n",
       "      <td>0</td>\n",
       "      <td>0</td>\n",
       "      <td>40</td>\n",
       "    </tr>\n",
       "    <tr>\n",
       "      <th>3</th>\n",
       "      <td>44</td>\n",
       "      <td>7688</td>\n",
       "      <td>0</td>\n",
       "      <td>40</td>\n",
       "    </tr>\n",
       "    <tr>\n",
       "      <th>4</th>\n",
       "      <td>18</td>\n",
       "      <td>0</td>\n",
       "      <td>0</td>\n",
       "      <td>30</td>\n",
       "    </tr>\n",
       "  </tbody>\n",
       "</table>\n",
       "</div>"
      ],
      "text/plain": [
       "   age  capital-gain  capital-loss  hours-per-week\n",
       "0   25             0             0              40\n",
       "1   38             0             0              50\n",
       "2   28             0             0              40\n",
       "3   44          7688             0              40\n",
       "4   18             0             0              30"
      ]
     },
     "execution_count": 26,
     "metadata": {},
     "output_type": "execute_result"
    }
   ],
   "source": [
    "import pandas as pd\n",
    "from sklearn.pipeline import Pipeline\n",
    "from sklearn.preprocessing import StandardScaler\n",
    "from sklearn.linear_model import LogisticRegression\n",
    "from sklearn.model_selection import cross_validate\n",
    "\n",
    "# Read data and create data and target dataframes\n",
    "df = pd.read_csv(\"CensusDataset.csv\")\n",
    "target_name = \"class\"\n",
    "numerical_columns = [\"age\", \"capital-gain\", \"capital-loss\", \"hours-per-week\"]\n",
    "\n",
    "target = df[target_name]\n",
    "data = df[numerical_columns]\n",
    "data.head()"
   ]
  },
  {
   "cell_type": "code",
   "execution_count": 30,
   "id": "e8e7a838",
   "metadata": {},
   "outputs": [],
   "source": [
    "# create model\n",
    "model = Pipeline(steps=[('Preprocessor', StandardScaler()), ('Classifier',LogisticRegression())])"
   ]
  },
  {
   "cell_type": "code",
   "execution_count": 31,
   "id": "3c8d63f6",
   "metadata": {},
   "outputs": [
    {
     "data": {
      "text/plain": [
       "{'memory': None,\n",
       " 'steps': [('Preprocessor', StandardScaler()),\n",
       "  ('Classifier', LogisticRegression())],\n",
       " 'verbose': False,\n",
       " 'Preprocessor': StandardScaler(),\n",
       " 'Classifier': LogisticRegression(),\n",
       " 'Preprocessor__copy': True,\n",
       " 'Preprocessor__with_mean': True,\n",
       " 'Preprocessor__with_std': True,\n",
       " 'Classifier__C': 1.0,\n",
       " 'Classifier__class_weight': None,\n",
       " 'Classifier__dual': False,\n",
       " 'Classifier__fit_intercept': True,\n",
       " 'Classifier__intercept_scaling': 1,\n",
       " 'Classifier__l1_ratio': None,\n",
       " 'Classifier__max_iter': 100,\n",
       " 'Classifier__multi_class': 'auto',\n",
       " 'Classifier__n_jobs': None,\n",
       " 'Classifier__penalty': 'l2',\n",
       " 'Classifier__random_state': None,\n",
       " 'Classifier__solver': 'lbfgs',\n",
       " 'Classifier__tol': 0.0001,\n",
       " 'Classifier__verbose': 0,\n",
       " 'Classifier__warm_start': False}"
      ]
     },
     "execution_count": 31,
     "metadata": {},
     "output_type": "execute_result"
    }
   ],
   "source": [
    "# Show available parameters in model\n",
    "model.get_params()"
   ]
  },
  {
   "cell_type": "code",
   "execution_count": 32,
   "id": "47c48e93",
   "metadata": {},
   "outputs": [
    {
     "name": "stdout",
     "output_type": "stream",
     "text": [
      "Accuracy cross-validation: 0.800 +/- 0.003\n"
     ]
    }
   ],
   "source": [
    "# Accuracy with basic model\n",
    "results = cross_validate(model, data, target)\n",
    "scores = results['test_score']\n",
    "print(f\"Accuracy cross-validation: {scores.mean():.3f} +/- {scores.std():.3f}\")"
   ]
  },
  {
   "cell_type": "code",
   "execution_count": 34,
   "id": "e2e8c28a",
   "metadata": {},
   "outputs": [
    {
     "name": "stdout",
     "output_type": "stream",
     "text": [
      "Accuracy cross-validation: 0.787 +/- 0.002\n"
     ]
    }
   ],
   "source": [
    "# Accuracy chaging C\n",
    "model.set_params(Classifier__C=1e-3)\n",
    "results = cross_validate(model, data, target)\n",
    "scores = results['test_score']\n",
    "print(f\"Accuracy cross-validation: {scores.mean():.3f} +/- {scores.std():.3f}\")"
   ]
  },
  {
   "cell_type": "code",
   "execution_count": 35,
   "id": "fe6fa337",
   "metadata": {},
   "outputs": [
    {
     "name": "stdout",
     "output_type": "stream",
     "text": [
      "0.001\n"
     ]
    }
   ],
   "source": [
    "# Check C Parameter\n",
    "print(model.get_params()['Classifier__C'])"
   ]
  },
  {
   "cell_type": "markdown",
   "id": "5682a0ad",
   "metadata": {},
   "source": [
    "### Set C manually"
   ]
  },
  {
   "cell_type": "code",
   "execution_count": 54,
   "id": "4fecfe9c",
   "metadata": {},
   "outputs": [
    {
     "name": "stdout",
     "output_type": "stream",
     "text": [
      "Accuracy cross-validation C=0.001: 0.787 +/- 0.002\n",
      "Accuracy cross-validation C=0.01:  0.799 +/- 0.003\n",
      "Accuracy cross-validation C=0.1:   0.800 +/- 0.003\n",
      "Accuracy cross-validation C=1:     0.800 +/- 0.003\n",
      "Accuracy cross-validation C=10:    0.800 +/- 0.003\n"
     ]
    }
   ],
   "source": [
    "for C in [1e-3, 1e-2, 1e-1, 1, 10]:\n",
    "    model.set_params(Classifier__C=C)\n",
    "    resutls = cross_validate(model, data, target)\n",
    "    scores = resutls[\"test_score\"]\n",
    "    string = f'{scores.mean():.3f} +/- {scores.std():.3f}'\n",
    "    print(f\"Accuracy cross-validation C={C}: \" + ' '*(5-len(str(C))) + string)    "
   ]
  },
  {
   "cell_type": "code",
   "execution_count": 57,
   "id": "d24e1b68",
   "metadata": {},
   "outputs": [
    {
     "data": {
      "text/plain": [
       "{'memory': None,\n",
       " 'steps': [('Preprocessor', StandardScaler()),\n",
       "  ('Classifier', LogisticRegression(C=10))],\n",
       " 'verbose': False,\n",
       " 'Preprocessor': StandardScaler(),\n",
       " 'Classifier': LogisticRegression(C=10),\n",
       " 'Preprocessor__copy': True,\n",
       " 'Preprocessor__with_mean': True,\n",
       " 'Preprocessor__with_std': True,\n",
       " 'Classifier__C': 10,\n",
       " 'Classifier__class_weight': None,\n",
       " 'Classifier__dual': False,\n",
       " 'Classifier__fit_intercept': True,\n",
       " 'Classifier__intercept_scaling': 1,\n",
       " 'Classifier__l1_ratio': None,\n",
       " 'Classifier__max_iter': 100,\n",
       " 'Classifier__multi_class': 'auto',\n",
       " 'Classifier__n_jobs': None,\n",
       " 'Classifier__penalty': 'l2',\n",
       " 'Classifier__random_state': None,\n",
       " 'Classifier__solver': 'lbfgs',\n",
       " 'Classifier__tol': 0.0001,\n",
       " 'Classifier__verbose': 0,\n",
       " 'Classifier__warm_start': False}"
      ]
     },
     "execution_count": 57,
     "metadata": {},
     "output_type": "execute_result"
    }
   ],
   "source": [
    "model.get_params()"
   ]
  },
  {
   "cell_type": "code",
   "execution_count": null,
   "id": "08b5e8cb",
   "metadata": {},
   "outputs": [],
   "source": []
  }
 ],
 "metadata": {
  "kernelspec": {
   "display_name": "Python 3 (ipykernel)",
   "language": "python",
   "name": "python3"
  },
  "language_info": {
   "codemirror_mode": {
    "name": "ipython",
    "version": 3
   },
   "file_extension": ".py",
   "mimetype": "text/x-python",
   "name": "python",
   "nbconvert_exporter": "python",
   "pygments_lexer": "ipython3",
   "version": "3.9.7"
  }
 },
 "nbformat": 4,
 "nbformat_minor": 5
}
