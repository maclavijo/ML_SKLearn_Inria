{
  "cells": [
    {
      "cell_type": "code",
      "execution_count": 1,
      "id": "6d9a60b2",
      "metadata": {
        "id": "6d9a60b2"
      },
      "outputs": [],
      "source": [
        "import pandas as pd\n",
        "import matplotlib.pyplot as plt\n",
        "from sklearn.datasets import fetch_california_housing\n",
        "from sklearn.tree import DecisionTreeRegressor\n",
        "from sklearn.metrics import mean_absolute_error\n",
        "from sklearn.model_selection import train_test_split, cross_validate, ShuffleSplit, cross_val_score, validation_curve"
      ]
    },
    {
      "cell_type": "markdown",
      "id": "c5c9f2f4",
      "metadata": {
        "id": "c5c9f2f4"
      },
      "source": [
        "### California Hoising Dataset - Overfitting and underfitting"
      ]
    },
    {
      "cell_type": "code",
      "execution_count": 2,
      "id": "2abcdbcb",
      "metadata": {
        "colab": {
          "base_uri": "https://localhost:8080/",
          "height": 206
        },
        "id": "2abcdbcb",
        "outputId": "56f07f99-ccbb-4030-c715-b22c5a5e3f42"
      },
      "outputs": [
        {
          "output_type": "execute_result",
          "data": {
            "text/plain": [
              "   MedInc  HouseAge  AveRooms  AveBedrms  Population  AveOccup  Latitude  \\\n",
              "0  8.3252      41.0  6.984127   1.023810       322.0  2.555556     37.88   \n",
              "1  8.3014      21.0  6.238137   0.971880      2401.0  2.109842     37.86   \n",
              "2  7.2574      52.0  8.288136   1.073446       496.0  2.802260     37.85   \n",
              "3  5.6431      52.0  5.817352   1.073059       558.0  2.547945     37.85   \n",
              "4  3.8462      52.0  6.281853   1.081081       565.0  2.181467     37.85   \n",
              "\n",
              "   Longitude  \n",
              "0    -122.23  \n",
              "1    -122.22  \n",
              "2    -122.24  \n",
              "3    -122.25  \n",
              "4    -122.25  "
            ],
            "text/html": [
              "\n",
              "  <div id=\"df-da84d922-cedc-4e09-a273-1bb608d2300a\">\n",
              "    <div class=\"colab-df-container\">\n",
              "      <div>\n",
              "<style scoped>\n",
              "    .dataframe tbody tr th:only-of-type {\n",
              "        vertical-align: middle;\n",
              "    }\n",
              "\n",
              "    .dataframe tbody tr th {\n",
              "        vertical-align: top;\n",
              "    }\n",
              "\n",
              "    .dataframe thead th {\n",
              "        text-align: right;\n",
              "    }\n",
              "</style>\n",
              "<table border=\"1\" class=\"dataframe\">\n",
              "  <thead>\n",
              "    <tr style=\"text-align: right;\">\n",
              "      <th></th>\n",
              "      <th>MedInc</th>\n",
              "      <th>HouseAge</th>\n",
              "      <th>AveRooms</th>\n",
              "      <th>AveBedrms</th>\n",
              "      <th>Population</th>\n",
              "      <th>AveOccup</th>\n",
              "      <th>Latitude</th>\n",
              "      <th>Longitude</th>\n",
              "    </tr>\n",
              "  </thead>\n",
              "  <tbody>\n",
              "    <tr>\n",
              "      <th>0</th>\n",
              "      <td>8.3252</td>\n",
              "      <td>41.0</td>\n",
              "      <td>6.984127</td>\n",
              "      <td>1.023810</td>\n",
              "      <td>322.0</td>\n",
              "      <td>2.555556</td>\n",
              "      <td>37.88</td>\n",
              "      <td>-122.23</td>\n",
              "    </tr>\n",
              "    <tr>\n",
              "      <th>1</th>\n",
              "      <td>8.3014</td>\n",
              "      <td>21.0</td>\n",
              "      <td>6.238137</td>\n",
              "      <td>0.971880</td>\n",
              "      <td>2401.0</td>\n",
              "      <td>2.109842</td>\n",
              "      <td>37.86</td>\n",
              "      <td>-122.22</td>\n",
              "    </tr>\n",
              "    <tr>\n",
              "      <th>2</th>\n",
              "      <td>7.2574</td>\n",
              "      <td>52.0</td>\n",
              "      <td>8.288136</td>\n",
              "      <td>1.073446</td>\n",
              "      <td>496.0</td>\n",
              "      <td>2.802260</td>\n",
              "      <td>37.85</td>\n",
              "      <td>-122.24</td>\n",
              "    </tr>\n",
              "    <tr>\n",
              "      <th>3</th>\n",
              "      <td>5.6431</td>\n",
              "      <td>52.0</td>\n",
              "      <td>5.817352</td>\n",
              "      <td>1.073059</td>\n",
              "      <td>558.0</td>\n",
              "      <td>2.547945</td>\n",
              "      <td>37.85</td>\n",
              "      <td>-122.25</td>\n",
              "    </tr>\n",
              "    <tr>\n",
              "      <th>4</th>\n",
              "      <td>3.8462</td>\n",
              "      <td>52.0</td>\n",
              "      <td>6.281853</td>\n",
              "      <td>1.081081</td>\n",
              "      <td>565.0</td>\n",
              "      <td>2.181467</td>\n",
              "      <td>37.85</td>\n",
              "      <td>-122.25</td>\n",
              "    </tr>\n",
              "  </tbody>\n",
              "</table>\n",
              "</div>\n",
              "      <button class=\"colab-df-convert\" onclick=\"convertToInteractive('df-da84d922-cedc-4e09-a273-1bb608d2300a')\"\n",
              "              title=\"Convert this dataframe to an interactive table.\"\n",
              "              style=\"display:none;\">\n",
              "        \n",
              "  <svg xmlns=\"http://www.w3.org/2000/svg\" height=\"24px\"viewBox=\"0 0 24 24\"\n",
              "       width=\"24px\">\n",
              "    <path d=\"M0 0h24v24H0V0z\" fill=\"none\"/>\n",
              "    <path d=\"M18.56 5.44l.94 2.06.94-2.06 2.06-.94-2.06-.94-.94-2.06-.94 2.06-2.06.94zm-11 1L8.5 8.5l.94-2.06 2.06-.94-2.06-.94L8.5 2.5l-.94 2.06-2.06.94zm10 10l.94 2.06.94-2.06 2.06-.94-2.06-.94-.94-2.06-.94 2.06-2.06.94z\"/><path d=\"M17.41 7.96l-1.37-1.37c-.4-.4-.92-.59-1.43-.59-.52 0-1.04.2-1.43.59L10.3 9.45l-7.72 7.72c-.78.78-.78 2.05 0 2.83L4 21.41c.39.39.9.59 1.41.59.51 0 1.02-.2 1.41-.59l7.78-7.78 2.81-2.81c.8-.78.8-2.07 0-2.86zM5.41 20L4 18.59l7.72-7.72 1.47 1.35L5.41 20z\"/>\n",
              "  </svg>\n",
              "      </button>\n",
              "      \n",
              "  <style>\n",
              "    .colab-df-container {\n",
              "      display:flex;\n",
              "      flex-wrap:wrap;\n",
              "      gap: 12px;\n",
              "    }\n",
              "\n",
              "    .colab-df-convert {\n",
              "      background-color: #E8F0FE;\n",
              "      border: none;\n",
              "      border-radius: 50%;\n",
              "      cursor: pointer;\n",
              "      display: none;\n",
              "      fill: #1967D2;\n",
              "      height: 32px;\n",
              "      padding: 0 0 0 0;\n",
              "      width: 32px;\n",
              "    }\n",
              "\n",
              "    .colab-df-convert:hover {\n",
              "      background-color: #E2EBFA;\n",
              "      box-shadow: 0px 1px 2px rgba(60, 64, 67, 0.3), 0px 1px 3px 1px rgba(60, 64, 67, 0.15);\n",
              "      fill: #174EA6;\n",
              "    }\n",
              "\n",
              "    [theme=dark] .colab-df-convert {\n",
              "      background-color: #3B4455;\n",
              "      fill: #D2E3FC;\n",
              "    }\n",
              "\n",
              "    [theme=dark] .colab-df-convert:hover {\n",
              "      background-color: #434B5C;\n",
              "      box-shadow: 0px 1px 3px 1px rgba(0, 0, 0, 0.15);\n",
              "      filter: drop-shadow(0px 1px 2px rgba(0, 0, 0, 0.3));\n",
              "      fill: #FFFFFF;\n",
              "    }\n",
              "  </style>\n",
              "\n",
              "      <script>\n",
              "        const buttonEl =\n",
              "          document.querySelector('#df-da84d922-cedc-4e09-a273-1bb608d2300a button.colab-df-convert');\n",
              "        buttonEl.style.display =\n",
              "          google.colab.kernel.accessAllowed ? 'block' : 'none';\n",
              "\n",
              "        async function convertToInteractive(key) {\n",
              "          const element = document.querySelector('#df-da84d922-cedc-4e09-a273-1bb608d2300a');\n",
              "          const dataTable =\n",
              "            await google.colab.kernel.invokeFunction('convertToInteractive',\n",
              "                                                     [key], {});\n",
              "          if (!dataTable) return;\n",
              "\n",
              "          const docLinkHtml = 'Like what you see? Visit the ' +\n",
              "            '<a target=\"_blank\" href=https://colab.research.google.com/notebooks/data_table.ipynb>data table notebook</a>'\n",
              "            + ' to learn more about interactive tables.';\n",
              "          element.innerHTML = '';\n",
              "          dataTable['output_type'] = 'display_data';\n",
              "          await google.colab.output.renderOutput(dataTable, element);\n",
              "          const docLink = document.createElement('div');\n",
              "          docLink.innerHTML = docLinkHtml;\n",
              "          element.appendChild(docLink);\n",
              "        }\n",
              "      </script>\n",
              "    </div>\n",
              "  </div>\n",
              "  "
            ]
          },
          "metadata": {},
          "execution_count": 2
        }
      ],
      "source": [
        "#Reading data\n",
        "housing = fetch_california_housing(as_frame=True)\n",
        "data, target = housing.data, housing.target\n",
        "data.head()"
      ]
    },
    {
      "cell_type": "code",
      "execution_count": 3,
      "id": "1d02422f",
      "metadata": {
        "colab": {
          "base_uri": "https://localhost:8080/"
        },
        "id": "1d02422f",
        "outputId": "b217240e-e4a7-42cf-cd06-db14760b9314"
      },
      "outputs": [
        {
          "output_type": "execute_result",
          "data": {
            "text/plain": [
              "0    452.6\n",
              "1    358.5\n",
              "2    352.1\n",
              "3    341.3\n",
              "4    342.2\n",
              "Name: MedHouseVal, dtype: float64"
            ]
          },
          "metadata": {},
          "execution_count": 3
        }
      ],
      "source": [
        "#Target changed to $Thoushands\n",
        "target = target * 100\n",
        "target.head()"
      ]
    },
    {
      "cell_type": "code",
      "execution_count": 4,
      "id": "6bac8924",
      "metadata": {
        "colab": {
          "base_uri": "https://localhost:8080/"
        },
        "id": "6bac8924",
        "outputId": "dbb2d883-e6ea-4244-92e1-a9be79feaf7c"
      },
      "outputs": [
        {
          "output_type": "stream",
          "name": "stdout",
          "text": [
            "Regressor average error: 0.000\n"
          ]
        }
      ],
      "source": [
        "#Using DecisionTreeRegressor for the model\n",
        "regressor = DecisionTreeRegressor(random_state=0)\n",
        "regressor.fit(data, target)\n",
        "pred = regressor.predict(data)\n",
        "\n",
        "#Testing on same training data - Errpr should be Zero\n",
        "score = mean_absolute_error(target, pred)\n",
        "print(f'Regressor average error: {score:.3f}')"
      ]
    },
    {
      "cell_type": "code",
      "execution_count": 5,
      "id": "4c9cd261",
      "metadata": {
        "colab": {
          "base_uri": "https://localhost:8080/"
        },
        "id": "4c9cd261",
        "outputId": "efd7fd35-03ff-4446-8e73-2631df5a3cf5"
      },
      "outputs": [
        {
          "output_type": "stream",
          "name": "stdout",
          "text": [
            "Regressor average error on training set: 0.000\n",
            "Regressor average error on test set: $47.28K\n"
          ]
        }
      ],
      "source": [
        "#Spliting data\n",
        "X_train, X_test, y_train, y_test = train_test_split(data, target, random_state=0)\n",
        "regressor.fit(X_train, y_train)\n",
        "\n",
        "# Zero error on training set - Should be Zero\n",
        "pred = regressor.predict(X_train)\n",
        "score = mean_absolute_error(y_train, pred)\n",
        "print(f'Regressor average error on training set: {score:.3f}')\n",
        "\n",
        "# Error on test set\n",
        "pred = regressor.predict(X_test)\n",
        "score = mean_absolute_error(y_test, pred)\n",
        "print(f'Regressor average error on test set: ${score:.2f}K')"
      ]
    },
    {
      "cell_type": "markdown",
      "id": "963c709e",
      "metadata": {
        "id": "963c709e"
      },
      "source": [
        "### Crossvalidation"
      ]
    },
    {
      "cell_type": "code",
      "execution_count": 6,
      "id": "071864df",
      "metadata": {
        "colab": {
          "base_uri": "https://localhost:8080/",
          "height": 363
        },
        "id": "071864df",
        "outputId": "ad64b711-d65f-4a49-8eba-46d176c771cb"
      },
      "outputs": [
        {
          "output_type": "execute_result",
          "data": {
            "text/plain": [
              "   fit_time  score_time  test_score  test_error\n",
              "0  0.171265    0.004368  -46.909797   46.909797\n",
              "1  0.168433    0.004334  -46.421170   46.421170\n",
              "2  0.165404    0.004306  -47.411089   47.411089\n",
              "3  0.170573    0.004776  -44.319824   44.319824\n",
              "4  0.167636    0.004329  -47.607875   47.607875\n",
              "5  0.171700    0.004296  -45.901300   45.901300\n",
              "6  0.165277    0.004498  -46.572767   46.572767\n",
              "7  0.163496    0.004255  -46.194585   46.194585\n",
              "8  0.163659    0.004486  -45.590236   45.590236\n",
              "9  0.164710    0.004247  -45.727998   45.727998"
            ],
            "text/html": [
              "\n",
              "  <div id=\"df-2234e019-b309-4c8a-b6d0-597806be614a\">\n",
              "    <div class=\"colab-df-container\">\n",
              "      <div>\n",
              "<style scoped>\n",
              "    .dataframe tbody tr th:only-of-type {\n",
              "        vertical-align: middle;\n",
              "    }\n",
              "\n",
              "    .dataframe tbody tr th {\n",
              "        vertical-align: top;\n",
              "    }\n",
              "\n",
              "    .dataframe thead th {\n",
              "        text-align: right;\n",
              "    }\n",
              "</style>\n",
              "<table border=\"1\" class=\"dataframe\">\n",
              "  <thead>\n",
              "    <tr style=\"text-align: right;\">\n",
              "      <th></th>\n",
              "      <th>fit_time</th>\n",
              "      <th>score_time</th>\n",
              "      <th>test_score</th>\n",
              "      <th>test_error</th>\n",
              "    </tr>\n",
              "  </thead>\n",
              "  <tbody>\n",
              "    <tr>\n",
              "      <th>0</th>\n",
              "      <td>0.171265</td>\n",
              "      <td>0.004368</td>\n",
              "      <td>-46.909797</td>\n",
              "      <td>46.909797</td>\n",
              "    </tr>\n",
              "    <tr>\n",
              "      <th>1</th>\n",
              "      <td>0.168433</td>\n",
              "      <td>0.004334</td>\n",
              "      <td>-46.421170</td>\n",
              "      <td>46.421170</td>\n",
              "    </tr>\n",
              "    <tr>\n",
              "      <th>2</th>\n",
              "      <td>0.165404</td>\n",
              "      <td>0.004306</td>\n",
              "      <td>-47.411089</td>\n",
              "      <td>47.411089</td>\n",
              "    </tr>\n",
              "    <tr>\n",
              "      <th>3</th>\n",
              "      <td>0.170573</td>\n",
              "      <td>0.004776</td>\n",
              "      <td>-44.319824</td>\n",
              "      <td>44.319824</td>\n",
              "    </tr>\n",
              "    <tr>\n",
              "      <th>4</th>\n",
              "      <td>0.167636</td>\n",
              "      <td>0.004329</td>\n",
              "      <td>-47.607875</td>\n",
              "      <td>47.607875</td>\n",
              "    </tr>\n",
              "    <tr>\n",
              "      <th>5</th>\n",
              "      <td>0.171700</td>\n",
              "      <td>0.004296</td>\n",
              "      <td>-45.901300</td>\n",
              "      <td>45.901300</td>\n",
              "    </tr>\n",
              "    <tr>\n",
              "      <th>6</th>\n",
              "      <td>0.165277</td>\n",
              "      <td>0.004498</td>\n",
              "      <td>-46.572767</td>\n",
              "      <td>46.572767</td>\n",
              "    </tr>\n",
              "    <tr>\n",
              "      <th>7</th>\n",
              "      <td>0.163496</td>\n",
              "      <td>0.004255</td>\n",
              "      <td>-46.194585</td>\n",
              "      <td>46.194585</td>\n",
              "    </tr>\n",
              "    <tr>\n",
              "      <th>8</th>\n",
              "      <td>0.163659</td>\n",
              "      <td>0.004486</td>\n",
              "      <td>-45.590236</td>\n",
              "      <td>45.590236</td>\n",
              "    </tr>\n",
              "    <tr>\n",
              "      <th>9</th>\n",
              "      <td>0.164710</td>\n",
              "      <td>0.004247</td>\n",
              "      <td>-45.727998</td>\n",
              "      <td>45.727998</td>\n",
              "    </tr>\n",
              "  </tbody>\n",
              "</table>\n",
              "</div>\n",
              "      <button class=\"colab-df-convert\" onclick=\"convertToInteractive('df-2234e019-b309-4c8a-b6d0-597806be614a')\"\n",
              "              title=\"Convert this dataframe to an interactive table.\"\n",
              "              style=\"display:none;\">\n",
              "        \n",
              "  <svg xmlns=\"http://www.w3.org/2000/svg\" height=\"24px\"viewBox=\"0 0 24 24\"\n",
              "       width=\"24px\">\n",
              "    <path d=\"M0 0h24v24H0V0z\" fill=\"none\"/>\n",
              "    <path d=\"M18.56 5.44l.94 2.06.94-2.06 2.06-.94-2.06-.94-.94-2.06-.94 2.06-2.06.94zm-11 1L8.5 8.5l.94-2.06 2.06-.94-2.06-.94L8.5 2.5l-.94 2.06-2.06.94zm10 10l.94 2.06.94-2.06 2.06-.94-2.06-.94-.94-2.06-.94 2.06-2.06.94z\"/><path d=\"M17.41 7.96l-1.37-1.37c-.4-.4-.92-.59-1.43-.59-.52 0-1.04.2-1.43.59L10.3 9.45l-7.72 7.72c-.78.78-.78 2.05 0 2.83L4 21.41c.39.39.9.59 1.41.59.51 0 1.02-.2 1.41-.59l7.78-7.78 2.81-2.81c.8-.78.8-2.07 0-2.86zM5.41 20L4 18.59l7.72-7.72 1.47 1.35L5.41 20z\"/>\n",
              "  </svg>\n",
              "      </button>\n",
              "      \n",
              "  <style>\n",
              "    .colab-df-container {\n",
              "      display:flex;\n",
              "      flex-wrap:wrap;\n",
              "      gap: 12px;\n",
              "    }\n",
              "\n",
              "    .colab-df-convert {\n",
              "      background-color: #E8F0FE;\n",
              "      border: none;\n",
              "      border-radius: 50%;\n",
              "      cursor: pointer;\n",
              "      display: none;\n",
              "      fill: #1967D2;\n",
              "      height: 32px;\n",
              "      padding: 0 0 0 0;\n",
              "      width: 32px;\n",
              "    }\n",
              "\n",
              "    .colab-df-convert:hover {\n",
              "      background-color: #E2EBFA;\n",
              "      box-shadow: 0px 1px 2px rgba(60, 64, 67, 0.3), 0px 1px 3px 1px rgba(60, 64, 67, 0.15);\n",
              "      fill: #174EA6;\n",
              "    }\n",
              "\n",
              "    [theme=dark] .colab-df-convert {\n",
              "      background-color: #3B4455;\n",
              "      fill: #D2E3FC;\n",
              "    }\n",
              "\n",
              "    [theme=dark] .colab-df-convert:hover {\n",
              "      background-color: #434B5C;\n",
              "      box-shadow: 0px 1px 3px 1px rgba(0, 0, 0, 0.15);\n",
              "      filter: drop-shadow(0px 1px 2px rgba(0, 0, 0, 0.3));\n",
              "      fill: #FFFFFF;\n",
              "    }\n",
              "  </style>\n",
              "\n",
              "      <script>\n",
              "        const buttonEl =\n",
              "          document.querySelector('#df-2234e019-b309-4c8a-b6d0-597806be614a button.colab-df-convert');\n",
              "        buttonEl.style.display =\n",
              "          google.colab.kernel.accessAllowed ? 'block' : 'none';\n",
              "\n",
              "        async function convertToInteractive(key) {\n",
              "          const element = document.querySelector('#df-2234e019-b309-4c8a-b6d0-597806be614a');\n",
              "          const dataTable =\n",
              "            await google.colab.kernel.invokeFunction('convertToInteractive',\n",
              "                                                     [key], {});\n",
              "          if (!dataTable) return;\n",
              "\n",
              "          const docLinkHtml = 'Like what you see? Visit the ' +\n",
              "            '<a target=\"_blank\" href=https://colab.research.google.com/notebooks/data_table.ipynb>data table notebook</a>'\n",
              "            + ' to learn more about interactive tables.';\n",
              "          element.innerHTML = '';\n",
              "          dataTable['output_type'] = 'display_data';\n",
              "          await google.colab.output.renderOutput(dataTable, element);\n",
              "          const docLink = document.createElement('div');\n",
              "          docLink.innerHTML = docLinkHtml;\n",
              "          element.appendChild(docLink);\n",
              "        }\n",
              "      </script>\n",
              "    </div>\n",
              "  </div>\n",
              "  "
            ]
          },
          "metadata": {},
          "execution_count": 6
        }
      ],
      "source": [
        "#Cross-Validation\n",
        "cv = ShuffleSplit(n_splits=40, test_size=0.3, random_state=0)\n",
        "cv_res = cross_validate(regressor, data, target, cv=cv, scoring='neg_mean_absolute_error')\n",
        "cv_res = pd.DataFrame(cv_res)\n",
        "cv_res['test_error'] = -1 * cv_res.test_score\n",
        "cv_res.head(10)"
      ]
    },
    {
      "cell_type": "code",
      "execution_count": 7,
      "id": "0d0c246a",
      "metadata": {
        "colab": {
          "base_uri": "https://localhost:8080/",
          "height": 312
        },
        "id": "0d0c246a",
        "outputId": "803dbe1d-ccdd-44bf-82dc-40554ed34cce"
      },
      "outputs": [
        {
          "output_type": "stream",
          "name": "stdout",
          "text": [
            "Mean cross-validation error is: $46.36K ± $1.17K\n"
          ]
        },
        {
          "output_type": "display_data",
          "data": {
            "text/plain": [
              "<Figure size 432x288 with 1 Axes>"
            ],
            "image/png": "[encoded data removed]"
          },
          "metadata": {
            "needs_background": "light"
          }
        }
      ],
      "source": [
        "#plot test error distribution\n",
        "sym = '\\u00B1'\n",
        "cv_res.test_error.plot.hist(bins=10, edgecolor='black')\n",
        "plt.xlabel('Mean abosulute error in (K$)')\n",
        "_ = plt.title('test error distribution')\n",
        "error = cv_res.test_error\n",
        "print(f'Mean cross-validation error is: ${error.mean():.2f}K {sym} ${error.std():.2f}K')"
      ]
    },
    {
      "cell_type": "code",
      "execution_count": 8,
      "id": "9777e11d",
      "metadata": {
        "colab": {
          "base_uri": "https://localhost:8080/",
          "height": 312
        },
        "id": "9777e11d",
        "outputId": "3817c82e-844d-478b-bf11-4c2d0109a56d"
      },
      "outputs": [
        {
          "output_type": "stream",
          "name": "stdout",
          "text": [
            "Standard deviation of Target distribution: $115.40K\n"
          ]
        },
        {
          "output_type": "display_data",
          "data": {
            "text/plain": [
              "<Figure size 432x288 with 1 Axes>"
            ],
            "image/png": "[encoded data removed]"
          },
          "metadata": {
            "needs_background": "light"
          }
        }
      ],
      "source": [
        "#Plot target distribution\n",
        "target.plot.hist(bins=20, edgecolor='black')\n",
        "plt.xlabel('Median House Value in ($K)')\n",
        "_ = plt.title('Target Distribution')\n",
        "print(f'Standard deviation of Target distribution: ${target.std():.2f}K')"
      ]
    },
    {
      "cell_type": "code",
      "execution_count": 9,
      "id": "0c6f22d8",
      "metadata": {
        "colab": {
          "base_uri": "https://localhost:8080/"
        },
        "id": "0c6f22d8",
        "outputId": "d92c2085-62b3-40b5-a7f3-d54a9c378953"
      },
      "outputs": [
        {
          "output_type": "stream",
          "name": "stdout",
          "text": [
            "{'fit_time': array([0.20957017, 0.19983697, 0.1882422 , 0.19925594, 0.18373823]), 'score_time': array([0.00306392, 0.00297332, 0.00316978, 0.00298333, 0.00315475]), 'estimator': [DecisionTreeRegressor(random_state=0), DecisionTreeRegressor(random_state=0), DecisionTreeRegressor(random_state=0), DecisionTreeRegressor(random_state=0), DecisionTreeRegressor(random_state=0)], 'test_score': array([0.26291527, 0.41947109, 0.44492564, 0.23357874, 0.40788361])}\n"
          ]
        },
        {
          "output_type": "execute_result",
          "data": {
            "text/plain": [
              "[DecisionTreeRegressor(random_state=0),\n",
              " DecisionTreeRegressor(random_state=0),\n",
              " DecisionTreeRegressor(random_state=0),\n",
              " DecisionTreeRegressor(random_state=0),\n",
              " DecisionTreeRegressor(random_state=0)]"
            ]
          },
          "metadata": {},
          "execution_count": 9
        }
      ],
      "source": [
        "#More regarding Cross-Validation - Check estimators\n",
        "cv = cross_validate(regressor, data, target, return_estimator=True)\n",
        "print(cv)\n",
        "cv['estimator']"
      ]
    },
    {
      "cell_type": "code",
      "execution_count": 10,
      "id": "0f47d01c",
      "metadata": {
        "colab": {
          "base_uri": "https://localhost:8080/"
        },
        "id": "0f47d01c",
        "outputId": "445e8844-08de-4f6d-880f-cc6cb675f218"
      },
      "outputs": [
        {
          "output_type": "execute_result",
          "data": {
            "text/plain": [
              "array([0.26291527, 0.41947109, 0.44492564, 0.23357874, 0.40788361])"
            ]
          },
          "metadata": {},
          "execution_count": 10
        }
      ],
      "source": [
        "#Get scores\n",
        "scores = cross_val_score(regressor, data, target)\n",
        "scores"
      ]
    },
    {
      "cell_type": "markdown",
      "id": "599bf55f",
      "metadata": {
        "id": "599bf55f"
      },
      "source": [
        "### Overfit-Generalization-Underfit"
      ]
    },
    {
      "cell_type": "code",
      "execution_count": 11,
      "id": "838f1d8f",
      "metadata": {
        "id": "838f1d8f"
      },
      "outputs": [],
      "source": [
        "# Crossvalidation and scores\n",
        "cv = ShuffleSplit(n_splits=30, test_size=0.2)\n",
        "cv_results = cross_validate(regressor, data, target, cv=cv, scoring='neg_mean_absolute_error',\n",
        "                           return_train_score=True, n_jobs=2)\n",
        "cv_results = pd.DataFrame(cv_results)\n",
        "scores = pd.DataFrame()\n",
        "scores[['train_error', 'test_error']] = -cv_results[['train_score', 'test_score']]"
      ]
    },
    {
      "cell_type": "code",
      "execution_count": 12,
      "id": "206ccea5",
      "metadata": {
        "colab": {
          "base_uri": "https://localhost:8080/",
          "height": 295
        },
        "id": "206ccea5",
        "outputId": "733d073a-19b7-4175-95cb-72baaea8c70e"
      },
      "outputs": [
        {
          "output_type": "display_data",
          "data": {
            "text/plain": [
              "<Figure size 432x288 with 1 Axes>"
            ],
            "image/png": "[encoded data removed]"
          },
          "metadata": {
            "needs_background": "light"
          }
        }
      ],
      "source": [
        "# Plotting error distributions\n",
        "scores.plot.hist(bins=50, edgecolor='black')\n",
        "plt.xlabel('Mean absolute error in $K')\n",
        "_ = plt.title('Train adn test error distributions - Cross-validation')"
      ]
    },
    {
      "cell_type": "markdown",
      "id": "df2c48f0",
      "metadata": {
        "id": "df2c48f0"
      },
      "source": [
        "### Validation Curve"
      ]
    },
    {
      "cell_type": "code",
      "execution_count": 13,
      "id": "0b4ed1c5",
      "metadata": {
        "id": "0b4ed1c5"
      },
      "outputs": [],
      "source": [
        "#Getting val and test errors for different tree depths\n",
        "max_depth = [1, 5, 10, 15, 20, 25]\n",
        "train_scores, test_scores = validation_curve(regressor, data, target, param_name='max_depth', param_range=max_depth,\n",
        "                                            cv=cv, scoring='neg_mean_absolute_error', n_jobs=2)\n",
        "train_errors, test_errors = -train_scores, -test_scores"
      ]
    },
    {
      "cell_type": "code",
      "execution_count": 14,
      "id": "38f8297a",
      "metadata": {
        "colab": {
          "base_uri": "https://localhost:8080/",
          "height": 295
        },
        "id": "38f8297a",
        "outputId": "9f651778-e12e-4fb6-c4c9-149215a0e418"
      },
      "outputs": [
        {
          "output_type": "display_data",
          "data": {
            "text/plain": [
              "<Figure size 432x288 with 1 Axes>"
            ],
            "image/png": "[encoded data removed]"
          },
          "metadata": {
            "needs_background": "light"
          }
        }
      ],
      "source": [
        "#Plotting train and test error curves\n",
        "plt.plot(max_depth, train_errors.mean(axis=1), label='Trainig error')\n",
        "plt.plot(max_depth, test_errors.mean(axis=1), label='Testing error')\n",
        "plt.legend()\n",
        "\n",
        "plt.xlabel('Max. depth of decision tree')\n",
        "plt.ylabel('Mean abs. error in $K')\n",
        "_ = plt.title('Validation curve for tree')"
      ]
    },
    {
      "cell_type": "code",
      "execution_count": 16,
      "id": "f4850c64",
      "metadata": {
        "colab": {
          "base_uri": "https://localhost:8080/",
          "height": 295
        },
        "id": "f4850c64",
        "outputId": "fc3e7f9d-09ae-488a-8aac-0d72c127929c"
      },
      "outputs": [
        {
          "output_type": "display_data",
          "data": {
            "text/plain": [
              "<Figure size 432x288 with 1 Axes>"
            ],
            "image/png": "[encoded data removed]"
          },
          "metadata": {
            "needs_background": "light"
          }
        }
      ],
      "source": [
        "#Plotting train and test error curves and std\n",
        "plt.errorbar(max_depth, train_errors.mean(axis=1), yerr=test_errors.std(axis=1), label='Trainig error')\n",
        "plt.errorbar(max_depth, test_errors.mean(axis=1), yerr=test_errors.std(axis=1), label='Testing error')\n",
        "plt.legend()\n",
        "\n",
        "plt.xlabel('Max. depth of decision tree')\n",
        "plt.ylabel('Mean abs. error in $K')\n",
        "_ = plt.title('Validation curve for tree')"
      ]
    },
    {
      "cell_type": "code",
      "execution_count": null,
      "id": "5c27acf3",
      "metadata": {
        "id": "5c27acf3"
      },
      "outputs": [],
      "source": [
        ""
      ]
    }
  ],
  "metadata": {
    "kernelspec": {
      "display_name": "Python 3 (ipykernel)",
      "language": "python",
      "name": "python3"
    },
    "language_info": {
      "codemirror_mode": {
        "name": "ipython",
        "version": 3
      },
      "file_extension": ".py",
      "mimetype": "text/x-python",
      "name": "python",
      "nbconvert_exporter": "python",
      "pygments_lexer": "ipython3",
      "version": "3.9.7"
    },
    "colab": {
      "name": "Cali_Housing - cross_val-checkpoint.ipynb",
      "provenance": []
    }
  },
  "nbformat": 4,
  "nbformat_minor": 5
}