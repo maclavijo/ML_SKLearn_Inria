{
<<<<<<< HEAD
 "cells": [
  {
   "cell_type": "code",
   "execution_count": 1,
   "id": "6d9a60b2",
   "metadata": {},
   "outputs": [],
   "source": [
    "import pandas as pd\n",
    "import matplotlib.pyplot as plt\n",
    "from sklearn.datasets import fetch_california_housing\n",
    "from sklearn.tree import DecisionTreeRegressor\n",
    "from sklearn.metrics import mean_absolute_error\n",
    "from sklearn.model_selection import train_test_split, cross_validate, ShuffleSplit, cross_val_score, validation_curve\n",
    "from sklearn.model_selection import learning_curve"
   ]
  },
  {
   "cell_type": "markdown",
   "id": "c5c9f2f4",
   "metadata": {},
   "source": [
    "### California Hoising Dataset - Overfitting and underfitting"
   ]
  },
  {
   "cell_type": "code",
   "execution_count": 2,
   "id": "2abcdbcb",
   "metadata": {},
   "outputs": [
=======
  "cells": [
>>>>>>> 90353a69f53961855bc0113be440f31dbff68744
    {
      "cell_type": "code",
      "execution_count": 1,
      "id": "6d9a60b2",
      "metadata": {
        "id": "6d9a60b2"
      },
      "outputs": [],
      "source": [
        "import pandas as pd\n",
        "import matplotlib.pyplot as plt\n",
        "from sklearn.datasets import fetch_california_housing\n",
        "from sklearn.tree import DecisionTreeRegressor\n",
        "from sklearn.metrics import mean_absolute_error\n",
        "from sklearn.model_selection import train_test_split, cross_validate, ShuffleSplit, cross_val_score, validation_curve"
      ]
    },
    {
      "cell_type": "markdown",
      "id": "c5c9f2f4",
      "metadata": {
        "id": "c5c9f2f4"
      },
      "source": [
        "### California Hoising Dataset - Overfitting and underfitting"
      ]
    },
    {
      "cell_type": "code",
      "execution_count": 2,
      "id": "2abcdbcb",
      "metadata": {
        "colab": {
          "base_uri": "https://localhost:8080/",
          "height": 206
        },
        "id": "2abcdbcb",
        "outputId": "56f07f99-ccbb-4030-c715-b22c5a5e3f42"
      },
      "outputs": [
        {
          "output_type": "execute_result",
          "data": {
            "text/plain": [
              "   MedInc  HouseAge  AveRooms  AveBedrms  Population  AveOccup  Latitude  \\\n",
              "0  8.3252      41.0  6.984127   1.023810       322.0  2.555556     37.88   \n",
              "1  8.3014      21.0  6.238137   0.971880      2401.0  2.109842     37.86   \n",
              "2  7.2574      52.0  8.288136   1.073446       496.0  2.802260     37.85   \n",
              "3  5.6431      52.0  5.817352   1.073059       558.0  2.547945     37.85   \n",
              "4  3.8462      52.0  6.281853   1.081081       565.0  2.181467     37.85   \n",
              "\n",
              "   Longitude  \n",
              "0    -122.23  \n",
              "1    -122.22  \n",
              "2    -122.24  \n",
              "3    -122.25  \n",
              "4    -122.25  "
            ],
            "text/html": [
              "\n",
              "  <div id=\"df-da84d922-cedc-4e09-a273-1bb608d2300a\">\n",
              "    <div class=\"colab-df-container\">\n",
              "      <div>\n",
              "<style scoped>\n",
              "    .dataframe tbody tr th:only-of-type {\n",
              "        vertical-align: middle;\n",
              "    }\n",
              "\n",
              "    .dataframe tbody tr th {\n",
              "        vertical-align: top;\n",
              "    }\n",
              "\n",
              "    .dataframe thead th {\n",
              "        text-align: right;\n",
              "    }\n",
              "</style>\n",
              "<table border=\"1\" class=\"dataframe\">\n",
              "  <thead>\n",
              "    <tr style=\"text-align: right;\">\n",
              "      <th></th>\n",
              "      <th>MedInc</th>\n",
              "      <th>HouseAge</th>\n",
              "      <th>AveRooms</th>\n",
              "      <th>AveBedrms</th>\n",
              "      <th>Population</th>\n",
              "      <th>AveOccup</th>\n",
              "      <th>Latitude</th>\n",
              "      <th>Longitude</th>\n",
              "    </tr>\n",
              "  </thead>\n",
              "  <tbody>\n",
              "    <tr>\n",
              "      <th>0</th>\n",
              "      <td>8.3252</td>\n",
              "      <td>41.0</td>\n",
              "      <td>6.984127</td>\n",
              "      <td>1.023810</td>\n",
              "      <td>322.0</td>\n",
              "      <td>2.555556</td>\n",
              "      <td>37.88</td>\n",
              "      <td>-122.23</td>\n",
              "    </tr>\n",
              "    <tr>\n",
              "      <th>1</th>\n",
              "      <td>8.3014</td>\n",
              "      <td>21.0</td>\n",
              "      <td>6.238137</td>\n",
              "      <td>0.971880</td>\n",
              "      <td>2401.0</td>\n",
              "      <td>2.109842</td>\n",
              "      <td>37.86</td>\n",
              "      <td>-122.22</td>\n",
              "    </tr>\n",
              "    <tr>\n",
              "      <th>2</th>\n",
              "      <td>7.2574</td>\n",
              "      <td>52.0</td>\n",
              "      <td>8.288136</td>\n",
              "      <td>1.073446</td>\n",
              "      <td>496.0</td>\n",
              "      <td>2.802260</td>\n",
              "      <td>37.85</td>\n",
              "      <td>-122.24</td>\n",
              "    </tr>\n",
              "    <tr>\n",
              "      <th>3</th>\n",
              "      <td>5.6431</td>\n",
              "      <td>52.0</td>\n",
              "      <td>5.817352</td>\n",
              "      <td>1.073059</td>\n",
              "      <td>558.0</td>\n",
              "      <td>2.547945</td>\n",
              "      <td>37.85</td>\n",
              "      <td>-122.25</td>\n",
              "    </tr>\n",
              "    <tr>\n",
              "      <th>4</th>\n",
              "      <td>3.8462</td>\n",
              "      <td>52.0</td>\n",
              "      <td>6.281853</td>\n",
              "      <td>1.081081</td>\n",
              "      <td>565.0</td>\n",
              "      <td>2.181467</td>\n",
              "      <td>37.85</td>\n",
              "      <td>-122.25</td>\n",
              "    </tr>\n",
              "  </tbody>\n",
              "</table>\n",
              "</div>\n",
              "      <button class=\"colab-df-convert\" onclick=\"convertToInteractive('df-da84d922-cedc-4e09-a273-1bb608d2300a')\"\n",
              "              title=\"Convert this dataframe to an interactive table.\"\n",
              "              style=\"display:none;\">\n",
              "        \n",
              "  <svg xmlns=\"http://www.w3.org/2000/svg\" height=\"24px\"viewBox=\"0 0 24 24\"\n",
              "       width=\"24px\">\n",
              "    <path d=\"M0 0h24v24H0V0z\" fill=\"none\"/>\n",
              "    <path d=\"M18.56 5.44l.94 2.06.94-2.06 2.06-.94-2.06-.94-.94-2.06-.94 2.06-2.06.94zm-11 1L8.5 8.5l.94-2.06 2.06-.94-2.06-.94L8.5 2.5l-.94 2.06-2.06.94zm10 10l.94 2.06.94-2.06 2.06-.94-2.06-.94-.94-2.06-.94 2.06-2.06.94z\"/><path d=\"M17.41 7.96l-1.37-1.37c-.4-.4-.92-.59-1.43-.59-.52 0-1.04.2-1.43.59L10.3 9.45l-7.72 7.72c-.78.78-.78 2.05 0 2.83L4 21.41c.39.39.9.59 1.41.59.51 0 1.02-.2 1.41-.59l7.78-7.78 2.81-2.81c.8-.78.8-2.07 0-2.86zM5.41 20L4 18.59l7.72-7.72 1.47 1.35L5.41 20z\"/>\n",
              "  </svg>\n",
              "      </button>\n",
              "      \n",
              "  <style>\n",
              "    .colab-df-container {\n",
              "      display:flex;\n",
              "      flex-wrap:wrap;\n",
              "      gap: 12px;\n",
              "    }\n",
              "\n",
              "    .colab-df-convert {\n",
              "      background-color: #E8F0FE;\n",
              "      border: none;\n",
              "      border-radius: 50%;\n",
              "      cursor: pointer;\n",
              "      display: none;\n",
              "      fill: #1967D2;\n",
              "      height: 32px;\n",
              "      padding: 0 0 0 0;\n",
              "      width: 32px;\n",
              "    }\n",
              "\n",
              "    .colab-df-convert:hover {\n",
              "      background-color: #E2EBFA;\n",
              "      box-shadow: 0px 1px 2px rgba(60, 64, 67, 0.3), 0px 1px 3px 1px rgba(60, 64, 67, 0.15);\n",
              "      fill: #174EA6;\n",
              "    }\n",
              "\n",
              "    [theme=dark] .colab-df-convert {\n",
              "      background-color: #3B4455;\n",
              "      fill: #D2E3FC;\n",
              "    }\n",
              "\n",
              "    [theme=dark] .colab-df-convert:hover {\n",
              "      background-color: #434B5C;\n",
              "      box-shadow: 0px 1px 3px 1px rgba(0, 0, 0, 0.15);\n",
              "      filter: drop-shadow(0px 1px 2px rgba(0, 0, 0, 0.3));\n",
              "      fill: #FFFFFF;\n",
              "    }\n",
              "  </style>\n",
              "\n",
              "      <script>\n",
              "        const buttonEl =\n",
              "          document.querySelector('#df-da84d922-cedc-4e09-a273-1bb608d2300a button.colab-df-convert');\n",
              "        buttonEl.style.display =\n",
              "          google.colab.kernel.accessAllowed ? 'block' : 'none';\n",
              "\n",
              "        async function convertToInteractive(key) {\n",
              "          const element = document.querySelector('#df-da84d922-cedc-4e09-a273-1bb608d2300a');\n",
              "          const dataTable =\n",
              "            await google.colab.kernel.invokeFunction('convertToInteractive',\n",
              "                                                     [key], {});\n",
              "          if (!dataTable) return;\n",
              "\n",
              "          const docLinkHtml = 'Like what you see? Visit the ' +\n",
              "            '<a target=\"_blank\" href=https://colab.research.google.com/notebooks/data_table.ipynb>data table notebook</a>'\n",
              "            + ' to learn more about interactive tables.';\n",
              "          element.innerHTML = '';\n",
              "          dataTable['output_type'] = 'display_data';\n",
              "          await google.colab.output.renderOutput(dataTable, element);\n",
              "          const docLink = document.createElement('div');\n",
              "          docLink.innerHTML = docLinkHtml;\n",
              "          element.appendChild(docLink);\n",
              "        }\n",
              "      </script>\n",
              "    </div>\n",
              "  </div>\n",
              "  "
            ]
          },
          "metadata": {},
          "execution_count": 2
        }
      ],
      "source": [
        "#Reading data\n",
        "housing = fetch_california_housing(as_frame=True)\n",
        "data, target = housing.data, housing.target\n",
        "data.head()"
      ]
    },
    {
<<<<<<< HEAD
     "data": {
      "text/plain": [
       "0    452.6\n",
       "1    358.5\n",
       "2    352.1\n",
       "3    341.3\n",
       "4    342.2\n",
       "Name: MedHouseVal, dtype: float64"
      ]
     },
     "execution_count": 3,
     "metadata": {},
     "output_type": "execute_result"
    }
   ],
   "source": [
    "#Target changed to $Thoushands\n",
    "target = target * 100\n",
    "target.head()"
   ]
  },
  {
   "cell_type": "code",
   "execution_count": 4,
   "id": "6bac8924",
   "metadata": {},
   "outputs": [
    {
     "name": "stdout",
     "output_type": "stream",
     "text": [
      "Regressor average error: 0.000\n"
     ]
    }
   ],
   "source": [
    "#Using DecisionTreeRegressor for the model\n",
    "regressor = DecisionTreeRegressor(random_state=0)\n",
    "regressor.fit(data, target)\n",
    "pred = regressor.predict(data)\n",
    "\n",
    "#Testing on same training data - Errpr should be Zero\n",
    "score = mean_absolute_error(target, pred)\n",
    "print(f'Regressor average error: {score:.3f}')"
   ]
  },
  {
   "cell_type": "code",
   "execution_count": 5,
   "id": "4c9cd261",
   "metadata": {},
   "outputs": [
    {
     "name": "stdout",
     "output_type": "stream",
     "text": [
      "Regressor average error on training set: 0.000\n",
      "Regressor average error on test set: $47.28K\n"
     ]
    }
   ],
   "source": [
    "#Spliting data\n",
    "X_train, X_test, y_train, y_test = train_test_split(data, target, random_state=0)\n",
    "regressor.fit(X_train, y_train)\n",
    "\n",
    "# Zero error on training set - Should be Zero\n",
    "pred = regressor.predict(X_train)\n",
    "score = mean_absolute_error(y_train, pred)\n",
    "print(f'Regressor average error on training set: {score:.3f}')\n",
    "\n",
    "# Error on test set\n",
    "pred = regressor.predict(X_test)\n",
    "score = mean_absolute_error(y_test, pred)\n",
    "print(f'Regressor average error on test set: ${score:.2f}K')"
   ]
  },
  {
   "cell_type": "markdown",
   "id": "963c709e",
   "metadata": {},
   "source": [
    "### Crossvalidation"
   ]
  },
  {
   "cell_type": "code",
   "execution_count": 6,
   "id": "071864df",
   "metadata": {},
   "outputs": [
    {
     "data": {
      "text/html": [
       "<div>\n",
       "<style scoped>\n",
       "    .dataframe tbody tr th:only-of-type {\n",
       "        vertical-align: middle;\n",
       "    }\n",
       "\n",
       "    .dataframe tbody tr th {\n",
       "        vertical-align: top;\n",
       "    }\n",
       "\n",
       "    .dataframe thead th {\n",
       "        text-align: right;\n",
       "    }\n",
       "</style>\n",
       "<table border=\"1\" class=\"dataframe\">\n",
       "  <thead>\n",
       "    <tr style=\"text-align: right;\">\n",
       "      <th></th>\n",
       "      <th>fit_time</th>\n",
       "      <th>score_time</th>\n",
       "      <th>test_score</th>\n",
       "      <th>test_error</th>\n",
       "    </tr>\n",
       "  </thead>\n",
       "  <tbody>\n",
       "    <tr>\n",
       "      <th>0</th>\n",
       "      <td>0.106414</td>\n",
       "      <td>0.000000</td>\n",
       "      <td>-46.909797</td>\n",
       "      <td>46.909797</td>\n",
       "    </tr>\n",
       "    <tr>\n",
       "      <th>1</th>\n",
       "      <td>0.100302</td>\n",
       "      <td>0.000000</td>\n",
       "      <td>-46.421170</td>\n",
       "      <td>46.421170</td>\n",
       "    </tr>\n",
       "    <tr>\n",
       "      <th>2</th>\n",
       "      <td>0.100273</td>\n",
       "      <td>0.000000</td>\n",
       "      <td>-47.411089</td>\n",
       "      <td>47.411089</td>\n",
       "    </tr>\n",
       "    <tr>\n",
       "      <th>3</th>\n",
       "      <td>0.100235</td>\n",
       "      <td>0.000000</td>\n",
       "      <td>-44.319824</td>\n",
       "      <td>44.319824</td>\n",
       "    </tr>\n",
       "    <tr>\n",
       "      <th>4</th>\n",
       "      <td>0.100288</td>\n",
       "      <td>0.015648</td>\n",
       "      <td>-47.607875</td>\n",
       "      <td>47.607875</td>\n",
       "    </tr>\n",
       "    <tr>\n",
       "      <th>5</th>\n",
       "      <td>0.084632</td>\n",
       "      <td>0.015649</td>\n",
       "      <td>-45.901300</td>\n",
       "      <td>45.901300</td>\n",
       "    </tr>\n",
       "    <tr>\n",
       "      <th>6</th>\n",
       "      <td>0.100249</td>\n",
       "      <td>0.000000</td>\n",
       "      <td>-46.572767</td>\n",
       "      <td>46.572767</td>\n",
       "    </tr>\n",
       "    <tr>\n",
       "      <th>7</th>\n",
       "      <td>0.110342</td>\n",
       "      <td>0.000000</td>\n",
       "      <td>-46.194585</td>\n",
       "      <td>46.194585</td>\n",
       "    </tr>\n",
       "    <tr>\n",
       "      <th>8</th>\n",
       "      <td>0.090268</td>\n",
       "      <td>0.015614</td>\n",
       "      <td>-45.590236</td>\n",
       "      <td>45.590236</td>\n",
       "    </tr>\n",
       "    <tr>\n",
       "      <th>9</th>\n",
       "      <td>0.100261</td>\n",
       "      <td>0.000000</td>\n",
       "      <td>-45.727998</td>\n",
       "      <td>45.727998</td>\n",
       "    </tr>\n",
       "  </tbody>\n",
       "</table>\n",
       "</div>"
      ],
      "text/plain": [
       "   fit_time  score_time  test_score  test_error\n",
       "0  0.106414    0.000000  -46.909797   46.909797\n",
       "1  0.100302    0.000000  -46.421170   46.421170\n",
       "2  0.100273    0.000000  -47.411089   47.411089\n",
       "3  0.100235    0.000000  -44.319824   44.319824\n",
       "4  0.100288    0.015648  -47.607875   47.607875\n",
       "5  0.084632    0.015649  -45.901300   45.901300\n",
       "6  0.100249    0.000000  -46.572767   46.572767\n",
       "7  0.110342    0.000000  -46.194585   46.194585\n",
       "8  0.090268    0.015614  -45.590236   45.590236\n",
       "9  0.100261    0.000000  -45.727998   45.727998"
=======
      "cell_type": "code",
      "execution_count": 3,
      "id": "1d02422f",
      "metadata": {
        "colab": {
          "base_uri": "https://localhost:8080/"
        },
        "id": "1d02422f",
        "outputId": "b217240e-e4a7-42cf-cd06-db14760b9314"
      },
      "outputs": [
        {
          "output_type": "execute_result",
          "data": {
            "text/plain": [
              "0    452.6\n",
              "1    358.5\n",
              "2    352.1\n",
              "3    341.3\n",
              "4    342.2\n",
              "Name: MedHouseVal, dtype: float64"
            ]
          },
          "metadata": {},
          "execution_count": 3
        }
      ],
      "source": [
        "#Target changed to $Thoushands\n",
        "target = target * 100\n",
        "target.head()"
>>>>>>> 90353a69f53961855bc0113be440f31dbff68744
      ]
    },
    {
<<<<<<< HEAD
     "data": {
      "image/png": "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\n",
      "text/plain": [
       "<Figure size 432x288 with 1 Axes>"
=======
      "cell_type": "code",
      "execution_count": 4,
      "id": "6bac8924",
      "metadata": {
        "colab": {
          "base_uri": "https://localhost:8080/"
        },
        "id": "6bac8924",
        "outputId": "dbb2d883-e6ea-4244-92e1-a9be79feaf7c"
      },
      "outputs": [
        {
          "output_type": "stream",
          "name": "stdout",
          "text": [
            "Regressor average error: 0.000\n"
          ]
        }
      ],
      "source": [
        "#Using DecisionTreeRegressor for the model\n",
        "regressor = DecisionTreeRegressor(random_state=0)\n",
        "regressor.fit(data, target)\n",
        "pred = regressor.predict(data)\n",
        "\n",
        "#Testing on same training data - Errpr should be Zero\n",
        "score = mean_absolute_error(target, pred)\n",
        "print(f'Regressor average error: {score:.3f}')"
>>>>>>> 90353a69f53961855bc0113be440f31dbff68744
      ]
    },
    {
<<<<<<< HEAD
     "data": {
      "image/png": "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\n",
      "text/plain": [
       "<Figure size 432x288 with 1 Axes>"
      ]
     },
     "metadata": {
      "needs_background": "light"
     },
     "output_type": "display_data"
    }
   ],
   "source": [
    "#Plot target distribution\n",
    "target.plot.hist(bins=20, edgecolor='black')\n",
    "plt.xlabel('Median House Value in ($K)')\n",
    "_ = plt.title('Target Distribution')\n",
    "print(f'Standard deviation of Target distribution: ${target.std():.2f}K')"
   ]
  },
  {
   "cell_type": "code",
   "execution_count": 9,
   "id": "0c6f22d8",
   "metadata": {},
   "outputs": [
    {
     "name": "stdout",
     "output_type": "stream",
     "text": [
      "{'fit_time': array([0.13148355, 0.13802528, 0.13154769, 0.11589289, 0.13155627]), 'score_time': array([0.01562572, 0.        , 0.        , 0.        , 0.        ]), 'estimator': [DecisionTreeRegressor(random_state=0), DecisionTreeRegressor(random_state=0), DecisionTreeRegressor(random_state=0), DecisionTreeRegressor(random_state=0), DecisionTreeRegressor(random_state=0)], 'test_score': array([0.26291527, 0.41947109, 0.44492564, 0.23357874, 0.40788361])}\n"
     ]
=======
      "cell_type": "code",
      "execution_count": 5,
      "id": "4c9cd261",
      "metadata": {
        "colab": {
          "base_uri": "https://localhost:8080/"
        },
        "id": "4c9cd261",
        "outputId": "efd7fd35-03ff-4446-8e73-2631df5a3cf5"
      },
      "outputs": [
        {
          "output_type": "stream",
          "name": "stdout",
          "text": [
            "Regressor average error on training set: 0.000\n",
            "Regressor average error on test set: $47.28K\n"
          ]
        }
      ],
      "source": [
        "#Spliting data\n",
        "X_train, X_test, y_train, y_test = train_test_split(data, target, random_state=0)\n",
        "regressor.fit(X_train, y_train)\n",
        "\n",
        "# Zero error on training set - Should be Zero\n",
        "pred = regressor.predict(X_train)\n",
        "score = mean_absolute_error(y_train, pred)\n",
        "print(f'Regressor average error on training set: {score:.3f}')\n",
        "\n",
        "# Error on test set\n",
        "pred = regressor.predict(X_test)\n",
        "score = mean_absolute_error(y_test, pred)\n",
        "print(f'Regressor average error on test set: ${score:.2f}K')"
      ]
>>>>>>> 90353a69f53961855bc0113be440f31dbff68744
    },
    {
      "cell_type": "markdown",
      "id": "963c709e",
      "metadata": {
        "id": "963c709e"
      },
      "source": [
        "### Crossvalidation"
      ]
    },
    {
      "cell_type": "code",
      "execution_count": 6,
      "id": "071864df",
      "metadata": {
        "colab": {
          "base_uri": "https://localhost:8080/",
          "height": 363
        },
        "id": "071864df",
        "outputId": "ad64b711-d65f-4a49-8eba-46d176c771cb"
      },
      "outputs": [
        {
          "output_type": "execute_result",
          "data": {
            "text/plain": [
              "   fit_time  score_time  test_score  test_error\n",
              "0  0.171265    0.004368  -46.909797   46.909797\n",
              "1  0.168433    0.004334  -46.421170   46.421170\n",
              "2  0.165404    0.004306  -47.411089   47.411089\n",
              "3  0.170573    0.004776  -44.319824   44.319824\n",
              "4  0.167636    0.004329  -47.607875   47.607875\n",
              "5  0.171700    0.004296  -45.901300   45.901300\n",
              "6  0.165277    0.004498  -46.572767   46.572767\n",
              "7  0.163496    0.004255  -46.194585   46.194585\n",
              "8  0.163659    0.004486  -45.590236   45.590236\n",
              "9  0.164710    0.004247  -45.727998   45.727998"
            ],
            "text/html": [
              "\n",
              "  <div id=\"df-2234e019-b309-4c8a-b6d0-597806be614a\">\n",
              "    <div class=\"colab-df-container\">\n",
              "      <div>\n",
              "<style scoped>\n",
              "    .dataframe tbody tr th:only-of-type {\n",
              "        vertical-align: middle;\n",
              "    }\n",
              "\n",
              "    .dataframe tbody tr th {\n",
              "        vertical-align: top;\n",
              "    }\n",
              "\n",
              "    .dataframe thead th {\n",
              "        text-align: right;\n",
              "    }\n",
              "</style>\n",
              "<table border=\"1\" class=\"dataframe\">\n",
              "  <thead>\n",
              "    <tr style=\"text-align: right;\">\n",
              "      <th></th>\n",
              "      <th>fit_time</th>\n",
              "      <th>score_time</th>\n",
              "      <th>test_score</th>\n",
              "      <th>test_error</th>\n",
              "    </tr>\n",
              "  </thead>\n",
              "  <tbody>\n",
              "    <tr>\n",
              "      <th>0</th>\n",
              "      <td>0.171265</td>\n",
              "      <td>0.004368</td>\n",
              "      <td>-46.909797</td>\n",
              "      <td>46.909797</td>\n",
              "    </tr>\n",
              "    <tr>\n",
              "      <th>1</th>\n",
              "      <td>0.168433</td>\n",
              "      <td>0.004334</td>\n",
              "      <td>-46.421170</td>\n",
              "      <td>46.421170</td>\n",
              "    </tr>\n",
              "    <tr>\n",
              "      <th>2</th>\n",
              "      <td>0.165404</td>\n",
              "      <td>0.004306</td>\n",
              "      <td>-47.411089</td>\n",
              "      <td>47.411089</td>\n",
              "    </tr>\n",
              "    <tr>\n",
              "      <th>3</th>\n",
              "      <td>0.170573</td>\n",
              "      <td>0.004776</td>\n",
              "      <td>-44.319824</td>\n",
              "      <td>44.319824</td>\n",
              "    </tr>\n",
              "    <tr>\n",
              "      <th>4</th>\n",
              "      <td>0.167636</td>\n",
              "      <td>0.004329</td>\n",
              "      <td>-47.607875</td>\n",
              "      <td>47.607875</td>\n",
              "    </tr>\n",
              "    <tr>\n",
              "      <th>5</th>\n",
              "      <td>0.171700</td>\n",
              "      <td>0.004296</td>\n",
              "      <td>-45.901300</td>\n",
              "      <td>45.901300</td>\n",
              "    </tr>\n",
              "    <tr>\n",
              "      <th>6</th>\n",
              "      <td>0.165277</td>\n",
              "      <td>0.004498</td>\n",
              "      <td>-46.572767</td>\n",
              "      <td>46.572767</td>\n",
              "    </tr>\n",
              "    <tr>\n",
              "      <th>7</th>\n",
              "      <td>0.163496</td>\n",
              "      <td>0.004255</td>\n",
              "      <td>-46.194585</td>\n",
              "      <td>46.194585</td>\n",
              "    </tr>\n",
              "    <tr>\n",
              "      <th>8</th>\n",
              "      <td>0.163659</td>\n",
              "      <td>0.004486</td>\n",
              "      <td>-45.590236</td>\n",
              "      <td>45.590236</td>\n",
              "    </tr>\n",
              "    <tr>\n",
              "      <th>9</th>\n",
              "      <td>0.164710</td>\n",
              "      <td>0.004247</td>\n",
              "      <td>-45.727998</td>\n",
              "      <td>45.727998</td>\n",
              "    </tr>\n",
              "  </tbody>\n",
              "</table>\n",
              "</div>\n",
              "      <button class=\"colab-df-convert\" onclick=\"convertToInteractive('df-2234e019-b309-4c8a-b6d0-597806be614a')\"\n",
              "              title=\"Convert this dataframe to an interactive table.\"\n",
              "              style=\"display:none;\">\n",
              "        \n",
              "  <svg xmlns=\"http://www.w3.org/2000/svg\" height=\"24px\"viewBox=\"0 0 24 24\"\n",
              "       width=\"24px\">\n",
              "    <path d=\"M0 0h24v24H0V0z\" fill=\"none\"/>\n",
              "    <path d=\"M18.56 5.44l.94 2.06.94-2.06 2.06-.94-2.06-.94-.94-2.06-.94 2.06-2.06.94zm-11 1L8.5 8.5l.94-2.06 2.06-.94-2.06-.94L8.5 2.5l-.94 2.06-2.06.94zm10 10l.94 2.06.94-2.06 2.06-.94-2.06-.94-.94-2.06-.94 2.06-2.06.94z\"/><path d=\"M17.41 7.96l-1.37-1.37c-.4-.4-.92-.59-1.43-.59-.52 0-1.04.2-1.43.59L10.3 9.45l-7.72 7.72c-.78.78-.78 2.05 0 2.83L4 21.41c.39.39.9.59 1.41.59.51 0 1.02-.2 1.41-.59l7.78-7.78 2.81-2.81c.8-.78.8-2.07 0-2.86zM5.41 20L4 18.59l7.72-7.72 1.47 1.35L5.41 20z\"/>\n",
              "  </svg>\n",
              "      </button>\n",
              "      \n",
              "  <style>\n",
              "    .colab-df-container {\n",
              "      display:flex;\n",
              "      flex-wrap:wrap;\n",
              "      gap: 12px;\n",
              "    }\n",
              "\n",
              "    .colab-df-convert {\n",
              "      background-color: #E8F0FE;\n",
              "      border: none;\n",
              "      border-radius: 50%;\n",
              "      cursor: pointer;\n",
              "      display: none;\n",
              "      fill: #1967D2;\n",
              "      height: 32px;\n",
              "      padding: 0 0 0 0;\n",
              "      width: 32px;\n",
              "    }\n",
              "\n",
              "    .colab-df-convert:hover {\n",
              "      background-color: #E2EBFA;\n",
              "      box-shadow: 0px 1px 2px rgba(60, 64, 67, 0.3), 0px 1px 3px 1px rgba(60, 64, 67, 0.15);\n",
              "      fill: #174EA6;\n",
              "    }\n",
              "\n",
              "    [theme=dark] .colab-df-convert {\n",
              "      background-color: #3B4455;\n",
              "      fill: #D2E3FC;\n",
              "    }\n",
              "\n",
              "    [theme=dark] .colab-df-convert:hover {\n",
              "      background-color: #434B5C;\n",
              "      box-shadow: 0px 1px 3px 1px rgba(0, 0, 0, 0.15);\n",
              "      filter: drop-shadow(0px 1px 2px rgba(0, 0, 0, 0.3));\n",
              "      fill: #FFFFFF;\n",
              "    }\n",
              "  </style>\n",
              "\n",
              "      <script>\n",
              "        const buttonEl =\n",
              "          document.querySelector('#df-2234e019-b309-4c8a-b6d0-597806be614a button.colab-df-convert');\n",
              "        buttonEl.style.display =\n",
              "          google.colab.kernel.accessAllowed ? 'block' : 'none';\n",
              "\n",
              "        async function convertToInteractive(key) {\n",
              "          const element = document.querySelector('#df-2234e019-b309-4c8a-b6d0-597806be614a');\n",
              "          const dataTable =\n",
              "            await google.colab.kernel.invokeFunction('convertToInteractive',\n",
              "                                                     [key], {});\n",
              "          if (!dataTable) return;\n",
              "\n",
              "          const docLinkHtml = 'Like what you see? Visit the ' +\n",
              "            '<a target=\"_blank\" href=https://colab.research.google.com/notebooks/data_table.ipynb>data table notebook</a>'\n",
              "            + ' to learn more about interactive tables.';\n",
              "          element.innerHTML = '';\n",
              "          dataTable['output_type'] = 'display_data';\n",
              "          await google.colab.output.renderOutput(dataTable, element);\n",
              "          const docLink = document.createElement('div');\n",
              "          docLink.innerHTML = docLinkHtml;\n",
              "          element.appendChild(docLink);\n",
              "        }\n",
              "      </script>\n",
              "    </div>\n",
              "  </div>\n",
              "  "
            ]
          },
          "metadata": {},
          "execution_count": 6
        }
      ],
      "source": [
        "#Cross-Validation\n",
        "cv = ShuffleSplit(n_splits=40, test_size=0.3, random_state=0)\n",
        "cv_res = cross_validate(regressor, data, target, cv=cv, scoring='neg_mean_absolute_error')\n",
        "cv_res = pd.DataFrame(cv_res)\n",
        "cv_res['test_error'] = -1 * cv_res.test_score\n",
        "cv_res.head(10)"
      ]
<<<<<<< HEAD
     },
     "execution_count": 10,
     "metadata": {},
     "output_type": "execute_result"
    }
   ],
   "source": [
    "#Get scores\n",
    "scores = cross_val_score(regressor, data, target)\n",
    "scores"
   ]
  },
  {
   "cell_type": "markdown",
   "id": "dae66af5",
   "metadata": {},
   "source": [
    "### Overfit-Generalization-Underfit"
   ]
  },
  {
   "cell_type": "code",
   "execution_count": 11,
   "id": "69c42f40",
   "metadata": {},
   "outputs": [],
   "source": [
    "# Crossvalidation and scores\n",
    "cv = ShuffleSplit(n_splits=30, test_size=0.2)\n",
    "cv_results = cross_validate(regressor, data, target, cv=cv, scoring='neg_mean_absolute_error',\n",
    "                           return_train_score=True, n_jobs=2)\n",
    "cv_results = pd.DataFrame(cv_results)\n",
    "scores = pd.DataFrame()\n",
    "scores[['train_error', 'test_error']] = -cv_results[['train_score', 'test_score']]"
   ]
  },
  {
   "cell_type": "code",
   "execution_count": 12,
   "id": "76868af1",
   "metadata": {},
   "outputs": [
    {
     "data": {
      "image/png": "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\n",
      "text/plain": [
       "<Figure size 432x288 with 1 Axes>"
      ]
     },
     "metadata": {
      "needs_background": "light"
     },
     "output_type": "display_data"
    }
   ],
   "source": [
    "# Plotting error distributions\n",
    "scores.plot.hist(bins=50, edgecolor='black')\n",
    "plt.xlabel('Mean absolute error in $K')\n",
    "_ = plt.title('Train adn test error distributions - Cross-validation')"
   ]
  },
  {
   "cell_type": "markdown",
   "id": "d64e667f",
   "metadata": {},
   "source": [
    "### Validation Curve"
   ]
  },
  {
   "cell_type": "code",
   "execution_count": 13,
   "id": "fd25d7d9",
   "metadata": {},
   "outputs": [],
   "source": [
    "#Getting val and test errors for different tree depths\n",
    "max_depth = [1, 5, 10, 15, 20, 25]\n",
    "train_scores, test_scores = validation_curve(regressor, data, target, param_name='max_depth', param_range=max_depth,\n",
    "                                            cv=cv, scoring='neg_mean_absolute_error', n_jobs=2)\n",
    "train_errors, test_errors = -train_scores, -test_scores"
   ]
  },
  {
   "cell_type": "code",
   "execution_count": 14,
   "id": "e4b20eea",
   "metadata": {},
   "outputs": [
    {
     "data": {
      "image/png": "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\n",
      "text/plain": [
       "<Figure size 432x288 with 1 Axes>"
      ]
     },
     "metadata": {
      "needs_background": "light"
     },
     "output_type": "display_data"
    }
   ],
   "source": [
    "#Plotting train and test error curves\n",
    "plt.plot(max_depth, train_errors.mean(axis=1), label='Trainig error')\n",
    "plt.plot(max_depth, test_errors.mean(axis=1), label='Testing error')\n",
    "plt.legend()\n",
    "\n",
    "plt.xlabel('Max. depth of decision tree')\n",
    "plt.ylabel('Mean abs. error in $K')\n",
    "_ = plt.title('Validation curve for tree')"
   ]
  },
  {
   "cell_type": "code",
   "execution_count": 15,
   "id": "608915d2",
   "metadata": {},
   "outputs": [
    {
     "data": {
      "image/png": "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\n",
      "text/plain": [
       "<Figure size 432x288 with 1 Axes>"
=======
    },
    {
      "cell_type": "code",
      "execution_count": 7,
      "id": "0d0c246a",
      "metadata": {
        "colab": {
          "base_uri": "https://localhost:8080/",
          "height": 312
        },
        "id": "0d0c246a",
        "outputId": "803dbe1d-ccdd-44bf-82dc-40554ed34cce"
      },
      "outputs": [
        {
          "output_type": "stream",
          "name": "stdout",
          "text": [
            "Mean cross-validation error is: $46.36K ± $1.17K\n"
          ]
        },
        {
          "output_type": "display_data",
          "data": {
            "text/plain": [
              "<Figure size 432x288 with 1 Axes>"
            ],
            "image/png": "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\n"
          },
          "metadata": {
            "needs_background": "light"
          }
        }
      ],
      "source": [
        "#plot test error distribution\n",
        "sym = '\\u00B1'\n",
        "cv_res.test_error.plot.hist(bins=10, edgecolor='black')\n",
        "plt.xlabel('Mean abosulute error in (K$)')\n",
        "_ = plt.title('test error distribution')\n",
        "error = cv_res.test_error\n",
        "print(f'Mean cross-validation error is: ${error.mean():.2f}K {sym} ${error.std():.2f}K')"
      ]
    },
    {
      "cell_type": "code",
      "execution_count": 8,
      "id": "9777e11d",
      "metadata": {
        "colab": {
          "base_uri": "https://localhost:8080/",
          "height": 312
        },
        "id": "9777e11d",
        "outputId": "3817c82e-844d-478b-bf11-4c2d0109a56d"
      },
      "outputs": [
        {
          "output_type": "stream",
          "name": "stdout",
          "text": [
            "Standard deviation of Target distribution: $115.40K\n"
          ]
        },
        {
          "output_type": "display_data",
          "data": {
            "text/plain": [
              "<Figure size 432x288 with 1 Axes>"
            ],
            "image/png": "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\n"
          },
          "metadata": {
            "needs_background": "light"
          }
        }
      ],
      "source": [
        "#Plot target distribution\n",
        "target.plot.hist(bins=20, edgecolor='black')\n",
        "plt.xlabel('Median House Value in ($K)')\n",
        "_ = plt.title('Target Distribution')\n",
        "print(f'Standard deviation of Target distribution: ${target.std():.2f}K')"
      ]
    },
    {
      "cell_type": "code",
      "execution_count": 9,
      "id": "0c6f22d8",
      "metadata": {
        "colab": {
          "base_uri": "https://localhost:8080/"
        },
        "id": "0c6f22d8",
        "outputId": "d92c2085-62b3-40b5-a7f3-d54a9c378953"
      },
      "outputs": [
        {
          "output_type": "stream",
          "name": "stdout",
          "text": [
            "{'fit_time': array([0.20957017, 0.19983697, 0.1882422 , 0.19925594, 0.18373823]), 'score_time': array([0.00306392, 0.00297332, 0.00316978, 0.00298333, 0.00315475]), 'estimator': [DecisionTreeRegressor(random_state=0), DecisionTreeRegressor(random_state=0), DecisionTreeRegressor(random_state=0), DecisionTreeRegressor(random_state=0), DecisionTreeRegressor(random_state=0)], 'test_score': array([0.26291527, 0.41947109, 0.44492564, 0.23357874, 0.40788361])}\n"
          ]
        },
        {
          "output_type": "execute_result",
          "data": {
            "text/plain": [
              "[DecisionTreeRegressor(random_state=0),\n",
              " DecisionTreeRegressor(random_state=0),\n",
              " DecisionTreeRegressor(random_state=0),\n",
              " DecisionTreeRegressor(random_state=0),\n",
              " DecisionTreeRegressor(random_state=0)]"
            ]
          },
          "metadata": {},
          "execution_count": 9
        }
      ],
      "source": [
        "#More regarding Cross-Validation - Check estimators\n",
        "cv = cross_validate(regressor, data, target, return_estimator=True)\n",
        "print(cv)\n",
        "cv['estimator']"
      ]
    },
    {
      "cell_type": "code",
      "execution_count": 10,
      "id": "0f47d01c",
      "metadata": {
        "colab": {
          "base_uri": "https://localhost:8080/"
        },
        "id": "0f47d01c",
        "outputId": "445e8844-08de-4f6d-880f-cc6cb675f218"
      },
      "outputs": [
        {
          "output_type": "execute_result",
          "data": {
            "text/plain": [
              "array([0.26291527, 0.41947109, 0.44492564, 0.23357874, 0.40788361])"
            ]
          },
          "metadata": {},
          "execution_count": 10
        }
      ],
      "source": [
        "#Get scores\n",
        "scores = cross_val_score(regressor, data, target)\n",
        "scores"
      ]
    },
    {
      "cell_type": "markdown",
      "id": "599bf55f",
      "metadata": {
        "id": "599bf55f"
      },
      "source": [
        "### Overfit-Generalization-Underfit"
      ]
    },
    {
      "cell_type": "code",
      "execution_count": 11,
      "id": "838f1d8f",
      "metadata": {
        "id": "838f1d8f"
      },
      "outputs": [],
      "source": [
        "# Crossvalidation and scores\n",
        "cv = ShuffleSplit(n_splits=30, test_size=0.2)\n",
        "cv_results = cross_validate(regressor, data, target, cv=cv, scoring='neg_mean_absolute_error',\n",
        "                           return_train_score=True, n_jobs=2)\n",
        "cv_results = pd.DataFrame(cv_results)\n",
        "scores = pd.DataFrame()\n",
        "scores[['train_error', 'test_error']] = -cv_results[['train_score', 'test_score']]"
      ]
    },
    {
      "cell_type": "code",
      "execution_count": 12,
      "id": "206ccea5",
      "metadata": {
        "colab": {
          "base_uri": "https://localhost:8080/",
          "height": 295
        },
        "id": "206ccea5",
        "outputId": "733d073a-19b7-4175-95cb-72baaea8c70e"
      },
      "outputs": [
        {
          "output_type": "display_data",
          "data": {
            "text/plain": [
              "<Figure size 432x288 with 1 Axes>"
            ],
            "image/png": "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\n"
          },
          "metadata": {
            "needs_background": "light"
          }
        }
      ],
      "source": [
        "# Plotting error distributions\n",
        "scores.plot.hist(bins=50, edgecolor='black')\n",
        "plt.xlabel('Mean absolute error in $K')\n",
        "_ = plt.title('Train adn test error distributions - Cross-validation')"
      ]
    },
    {
      "cell_type": "markdown",
      "id": "df2c48f0",
      "metadata": {
        "id": "df2c48f0"
      },
      "source": [
        "### Validation Curve"
      ]
    },
    {
      "cell_type": "code",
      "execution_count": 13,
      "id": "0b4ed1c5",
      "metadata": {
        "id": "0b4ed1c5"
      },
      "outputs": [],
      "source": [
        "#Getting val and test errors for different tree depths\n",
        "max_depth = [1, 5, 10, 15, 20, 25]\n",
        "train_scores, test_scores = validation_curve(regressor, data, target, param_name='max_depth', param_range=max_depth,\n",
        "                                            cv=cv, scoring='neg_mean_absolute_error', n_jobs=2)\n",
        "train_errors, test_errors = -train_scores, -test_scores"
      ]
    },
    {
      "cell_type": "code",
      "execution_count": 14,
      "id": "38f8297a",
      "metadata": {
        "colab": {
          "base_uri": "https://localhost:8080/",
          "height": 295
        },
        "id": "38f8297a",
        "outputId": "9f651778-e12e-4fb6-c4c9-149215a0e418"
      },
      "outputs": [
        {
          "output_type": "display_data",
          "data": {
            "text/plain": [
              "<Figure size 432x288 with 1 Axes>"
            ],
            "image/png": "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\n"
          },
          "metadata": {
            "needs_background": "light"
          }
        }
      ],
      "source": [
        "#Plotting train and test error curves\n",
        "plt.plot(max_depth, train_errors.mean(axis=1), label='Trainig error')\n",
        "plt.plot(max_depth, test_errors.mean(axis=1), label='Testing error')\n",
        "plt.legend()\n",
        "\n",
        "plt.xlabel('Max. depth of decision tree')\n",
        "plt.ylabel('Mean abs. error in $K')\n",
        "_ = plt.title('Validation curve for tree')"
      ]
    },
    {
      "cell_type": "code",
      "execution_count": 16,
      "id": "f4850c64",
      "metadata": {
        "colab": {
          "base_uri": "https://localhost:8080/",
          "height": 295
        },
        "id": "f4850c64",
        "outputId": "fc3e7f9d-09ae-488a-8aac-0d72c127929c"
      },
      "outputs": [
        {
          "output_type": "display_data",
          "data": {
            "text/plain": [
              "<Figure size 432x288 with 1 Axes>"
            ],
            "image/png": "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\n"
          },
          "metadata": {
            "needs_background": "light"
          }
        }
      ],
      "source": [
        "#Plotting train and test error curves and std\n",
        "plt.errorbar(max_depth, train_errors.mean(axis=1), yerr=test_errors.std(axis=1), label='Trainig error')\n",
        "plt.errorbar(max_depth, test_errors.mean(axis=1), yerr=test_errors.std(axis=1), label='Testing error')\n",
        "plt.legend()\n",
        "\n",
        "plt.xlabel('Max. depth of decision tree')\n",
        "plt.ylabel('Mean abs. error in $K')\n",
        "_ = plt.title('Validation curve for tree')"
      ]
    },
    {
      "cell_type": "code",
      "execution_count": null,
      "id": "5c27acf3",
      "metadata": {
        "id": "5c27acf3"
      },
      "outputs": [],
      "source": [
        ""
>>>>>>> 90353a69f53961855bc0113be440f31dbff68744
      ]
    }
<<<<<<< HEAD
   ],
   "source": [
    "#Plotting train and test error curves and std\n",
    "plt.errorbar(max_depth, train_errors.mean(axis=1), yerr=train_errors.std(axis=1), label='Trainig error')\n",
    "plt.errorbar(max_depth, test_errors.mean(axis=1), yerr=test_errors.std(axis=1), label='Testing error')\n",
    "plt.legend()\n",
    "\n",
    "plt.xlabel('Max. depth of decision tree')\n",
    "plt.ylabel('Mean abs. error in $K')\n",
    "_ = plt.title('Validation curve for tree')"
   ]
  },
  {
   "cell_type": "markdown",
   "id": "261aeb53",
   "metadata": {},
   "source": [
    "### Sample Size in cross-validation"
   ]
  },
  {
   "cell_type": "code",
   "execution_count": 16,
   "id": "9c6c6bc8",
   "metadata": {},
   "outputs": [
    {
     "data": {
      "text/plain": [
       "array([0.1  , 0.325, 0.55 , 0.775, 1.   ])"
      ]
     },
     "execution_count": 16,
     "metadata": {},
     "output_type": "execute_result"
    }
   ],
   "source": [
    "import numpy as np\n",
    "train_sizes = np.linspace(0.1, 1.0, num=5, endpoint=True)\n",
    "train_sizes"
   ]
  },
  {
   "cell_type": "code",
   "execution_count": 17,
   "id": "c77e1ae6",
   "metadata": {},
   "outputs": [],
   "source": [
    "cv = ShuffleSplit(n_splits=30, test_size=0.2)"
   ]
  },
  {
   "cell_type": "code",
   "execution_count": 18,
   "id": "917a2161",
   "metadata": {},
   "outputs": [],
   "source": [
    "results = learning_curve(regressor, data, target, train_sizes=train_sizes, cv=cv,\n",
    "                        scoring='neg_mean_absolute_error', n_jobs=2)\n",
    "train_size, train_scores, test_scores = results[:3]\n",
    "train_errors, test_errors = -train_scores, -test_scores"
   ]
  },
  {
   "cell_type": "code",
   "execution_count": 19,
   "id": "b1326f83",
   "metadata": {
    "scrolled": true
   },
   "outputs": [
    {
     "data": {
      "image/png": "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\n",
      "text/plain": [
       "<Figure size 432x288 with 1 Axes>"
      ]
     },
     "metadata": {
      "needs_background": "light"
     },
     "output_type": "display_data"
    }
   ],
   "source": [
    "plt.errorbar(train_size, train_errors.mean(axis=1), \n",
    "             yerr=train_errors.std(axis=1), \n",
    "             label='Training Error')\n",
    "plt.errorbar(train_size, test_errors.mean(axis=1),\n",
    "            yerr=test_errors.std(axis=1),\n",
    "            label='Testing error')\n",
    "plt.legend()\n",
    "\n",
    "plt.xscale('log')\n",
    "plt.xlabel('# of samples in training set')\n",
    "plt.ylabel('Mean absolute error in $K')\n",
    "_ = plt.title('Decision tree learning curve')"
   ]
  },
  {
   "cell_type": "code",
   "execution_count": null,
   "id": "dd91ce58",
   "metadata": {},
   "outputs": [],
   "source": []
  }
 ],
 "metadata": {
  "kernelspec": {
   "display_name": "Python 3 (ipykernel)",
   "language": "python",
   "name": "python3"
  },
  "language_info": {
   "codemirror_mode": {
    "name": "ipython",
    "version": 3
   },
   "file_extension": ".py",
   "mimetype": "text/x-python",
   "name": "python",
   "nbconvert_exporter": "python",
   "pygments_lexer": "ipython3",
   "version": "3.9.7"
  }
 },
 "nbformat": 4,
 "nbformat_minor": 5
}
=======
  ],
  "metadata": {
    "kernelspec": {
      "display_name": "Python 3 (ipykernel)",
      "language": "python",
      "name": "python3"
    },
    "language_info": {
      "codemirror_mode": {
        "name": "ipython",
        "version": 3
      },
      "file_extension": ".py",
      "mimetype": "text/x-python",
      "name": "python",
      "nbconvert_exporter": "python",
      "pygments_lexer": "ipython3",
      "version": "3.9.7"
    },
    "colab": {
      "name": "Cali_Housing - cross_val-checkpoint.ipynb",
      "provenance": []
    }
  },
  "nbformat": 4,
  "nbformat_minor": 5
}
>>>>>>> 90353a69f53961855bc0113be440f31dbff68744
