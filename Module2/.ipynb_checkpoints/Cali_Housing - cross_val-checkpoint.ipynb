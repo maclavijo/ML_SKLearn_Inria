{
 "cells": [
  {
   "cell_type": "code",
   "execution_count": 1,
   "id": "6d9a60b2",
   "metadata": {},
   "outputs": [],
   "source": [
    "import pandas as pd\n",
    "import matplotlib.pyplot as plt\n",
    "from sklearn.datasets import fetch_california_housing\n",
    "from sklearn.tree import DecisionTreeRegressor\n",
    "from sklearn.metrics import mean_absolute_error\n",
    "from sklearn.model_selection import train_test_split, cross_validate, ShuffleSplit, cross_val_score, validation_curve\n",
    "from sklearn.model_selection import learning_curve"
   ]
  },
  {
   "cell_type": "markdown",
   "id": "c5c9f2f4",
   "metadata": {},
   "source": [
    "### California Hoising Dataset - Overfitting and underfitting"
   ]
  },
  {
   "cell_type": "code",
   "execution_count": 2,
   "id": "2abcdbcb",
   "metadata": {},
   "outputs": [
    {
     "data": {
      "text/html": [
       "<div>\n",
       "<style scoped>\n",
       "    .dataframe tbody tr th:only-of-type {\n",
       "        vertical-align: middle;\n",
       "    }\n",
       "\n",
       "    .dataframe tbody tr th {\n",
       "        vertical-align: top;\n",
       "    }\n",
       "\n",
       "    .dataframe thead th {\n",
       "        text-align: right;\n",
       "    }\n",
       "</style>\n",
       "<table border=\"1\" class=\"dataframe\">\n",
       "  <thead>\n",
       "    <tr style=\"text-align: right;\">\n",
       "      <th></th>\n",
       "      <th>MedInc</th>\n",
       "      <th>HouseAge</th>\n",
       "      <th>AveRooms</th>\n",
       "      <th>AveBedrms</th>\n",
       "      <th>Population</th>\n",
       "      <th>AveOccup</th>\n",
       "      <th>Latitude</th>\n",
       "      <th>Longitude</th>\n",
       "    </tr>\n",
       "  </thead>\n",
       "  <tbody>\n",
       "    <tr>\n",
       "      <th>0</th>\n",
       "      <td>8.3252</td>\n",
       "      <td>41.0</td>\n",
       "      <td>6.984127</td>\n",
       "      <td>1.023810</td>\n",
       "      <td>322.0</td>\n",
       "      <td>2.555556</td>\n",
       "      <td>37.88</td>\n",
       "      <td>-122.23</td>\n",
       "    </tr>\n",
       "    <tr>\n",
       "      <th>1</th>\n",
       "      <td>8.3014</td>\n",
       "      <td>21.0</td>\n",
       "      <td>6.238137</td>\n",
       "      <td>0.971880</td>\n",
       "      <td>2401.0</td>\n",
       "      <td>2.109842</td>\n",
       "      <td>37.86</td>\n",
       "      <td>-122.22</td>\n",
       "    </tr>\n",
       "    <tr>\n",
       "      <th>2</th>\n",
       "      <td>7.2574</td>\n",
       "      <td>52.0</td>\n",
       "      <td>8.288136</td>\n",
       "      <td>1.073446</td>\n",
       "      <td>496.0</td>\n",
       "      <td>2.802260</td>\n",
       "      <td>37.85</td>\n",
       "      <td>-122.24</td>\n",
       "    </tr>\n",
       "    <tr>\n",
       "      <th>3</th>\n",
       "      <td>5.6431</td>\n",
       "      <td>52.0</td>\n",
       "      <td>5.817352</td>\n",
       "      <td>1.073059</td>\n",
       "      <td>558.0</td>\n",
       "      <td>2.547945</td>\n",
       "      <td>37.85</td>\n",
       "      <td>-122.25</td>\n",
       "    </tr>\n",
       "    <tr>\n",
       "      <th>4</th>\n",
       "      <td>3.8462</td>\n",
       "      <td>52.0</td>\n",
       "      <td>6.281853</td>\n",
       "      <td>1.081081</td>\n",
       "      <td>565.0</td>\n",
       "      <td>2.181467</td>\n",
       "      <td>37.85</td>\n",
       "      <td>-122.25</td>\n",
       "    </tr>\n",
       "  </tbody>\n",
       "</table>\n",
       "</div>"
      ],
      "text/plain": [
       "   MedInc  HouseAge  AveRooms  AveBedrms  Population  AveOccup  Latitude  \\\n",
       "0  8.3252      41.0  6.984127   1.023810       322.0  2.555556     37.88   \n",
       "1  8.3014      21.0  6.238137   0.971880      2401.0  2.109842     37.86   \n",
       "2  7.2574      52.0  8.288136   1.073446       496.0  2.802260     37.85   \n",
       "3  5.6431      52.0  5.817352   1.073059       558.0  2.547945     37.85   \n",
       "4  3.8462      52.0  6.281853   1.081081       565.0  2.181467     37.85   \n",
       "\n",
       "   Longitude  \n",
       "0    -122.23  \n",
       "1    -122.22  \n",
       "2    -122.24  \n",
       "3    -122.25  \n",
       "4    -122.25  "
      ]
     },
     "execution_count": 2,
     "metadata": {},
     "output_type": "execute_result"
    }
   ],
   "source": [
    "#Reading data\n",
    "housing = fetch_california_housing(as_frame=True)\n",
    "data, target = housing.data, housing.target\n",
    "data.head()"
   ]
  },
  {
   "cell_type": "code",
   "execution_count": 3,
   "id": "1d02422f",
   "metadata": {},
   "outputs": [
    {
     "data": {
      "text/plain": [
       "0    452.6\n",
       "1    358.5\n",
       "2    352.1\n",
       "3    341.3\n",
       "4    342.2\n",
       "Name: MedHouseVal, dtype: float64"
      ]
     },
     "execution_count": 3,
     "metadata": {},
     "output_type": "execute_result"
    }
   ],
   "source": [
    "#Target changed to $Thoushands\n",
    "target = target * 100\n",
    "target.head()"
   ]
  },
  {
   "cell_type": "code",
   "execution_count": 4,
   "id": "6bac8924",
   "metadata": {},
   "outputs": [
    {
     "name": "stdout",
     "output_type": "stream",
     "text": [
      "Regressor average error: 0.000\n"
     ]
    }
   ],
   "source": [
    "#Using DecisionTreeRegressor for the model\n",
    "regressor = DecisionTreeRegressor(random_state=0)\n",
    "regressor.fit(data, target)\n",
    "pred = regressor.predict(data)\n",
    "\n",
    "#Testing on same training data - Errpr should be Zero\n",
    "score = mean_absolute_error(target, pred)\n",
    "print(f'Regressor average error: {score:.3f}')"
   ]
  },
  {
   "cell_type": "code",
   "execution_count": 5,
   "id": "4c9cd261",
   "metadata": {},
   "outputs": [
    {
     "name": "stdout",
     "output_type": "stream",
     "text": [
      "Regressor average error on training set: 0.000\n",
      "Regressor average error on test set: $47.28K\n"
     ]
    }
   ],
   "source": [
    "#Spliting data\n",
    "X_train, X_test, y_train, y_test = train_test_split(data, target, random_state=0)\n",
    "regressor.fit(X_train, y_train)\n",
    "\n",
    "# Zero error on training set - Should be Zero\n",
    "pred = regressor.predict(X_train)\n",
    "score = mean_absolute_error(y_train, pred)\n",
    "print(f'Regressor average error on training set: {score:.3f}')\n",
    "\n",
    "# Error on test set\n",
    "pred = regressor.predict(X_test)\n",
    "score = mean_absolute_error(y_test, pred)\n",
    "print(f'Regressor average error on test set: ${score:.2f}K')"
   ]
  },
  {
   "cell_type": "markdown",
   "id": "963c709e",
   "metadata": {},
   "source": [
    "### Crossvalidation"
   ]
  },
  {
   "cell_type": "code",
   "execution_count": 6,
   "id": "071864df",
   "metadata": {},
   "outputs": [
    {
     "data": {
      "text/html": [
       "<div>\n",
       "<style scoped>\n",
       "    .dataframe tbody tr th:only-of-type {\n",
       "        vertical-align: middle;\n",
       "    }\n",
       "\n",
       "    .dataframe tbody tr th {\n",
       "        vertical-align: top;\n",
       "    }\n",
       "\n",
       "    .dataframe thead th {\n",
       "        text-align: right;\n",
       "    }\n",
       "</style>\n",
       "<table border=\"1\" class=\"dataframe\">\n",
       "  <thead>\n",
       "    <tr style=\"text-align: right;\">\n",
       "      <th></th>\n",
       "      <th>fit_time</th>\n",
       "      <th>score_time</th>\n",
       "      <th>test_score</th>\n",
       "      <th>test_error</th>\n",
       "    </tr>\n",
       "  </thead>\n",
       "  <tbody>\n",
       "    <tr>\n",
       "      <th>0</th>\n",
       "      <td>0.106414</td>\n",
       "      <td>0.000000</td>\n",
       "      <td>-46.909797</td>\n",
       "      <td>46.909797</td>\n",
       "    </tr>\n",
       "    <tr>\n",
       "      <th>1</th>\n",
       "      <td>0.100302</td>\n",
       "      <td>0.000000</td>\n",
       "      <td>-46.421170</td>\n",
       "      <td>46.421170</td>\n",
       "    </tr>\n",
       "    <tr>\n",
       "      <th>2</th>\n",
       "      <td>0.100273</td>\n",
       "      <td>0.000000</td>\n",
       "      <td>-47.411089</td>\n",
       "      <td>47.411089</td>\n",
       "    </tr>\n",
       "    <tr>\n",
       "      <th>3</th>\n",
       "      <td>0.100235</td>\n",
       "      <td>0.000000</td>\n",
       "      <td>-44.319824</td>\n",
       "      <td>44.319824</td>\n",
       "    </tr>\n",
       "    <tr>\n",
       "      <th>4</th>\n",
       "      <td>0.100288</td>\n",
       "      <td>0.015648</td>\n",
       "      <td>-47.607875</td>\n",
       "      <td>47.607875</td>\n",
       "    </tr>\n",
       "    <tr>\n",
       "      <th>5</th>\n",
       "      <td>0.084632</td>\n",
       "      <td>0.015649</td>\n",
       "      <td>-45.901300</td>\n",
       "      <td>45.901300</td>\n",
       "    </tr>\n",
       "    <tr>\n",
       "      <th>6</th>\n",
       "      <td>0.100249</td>\n",
       "      <td>0.000000</td>\n",
       "      <td>-46.572767</td>\n",
       "      <td>46.572767</td>\n",
       "    </tr>\n",
       "    <tr>\n",
       "      <th>7</th>\n",
       "      <td>0.110342</td>\n",
       "      <td>0.000000</td>\n",
       "      <td>-46.194585</td>\n",
       "      <td>46.194585</td>\n",
       "    </tr>\n",
       "    <tr>\n",
       "      <th>8</th>\n",
       "      <td>0.090268</td>\n",
       "      <td>0.015614</td>\n",
       "      <td>-45.590236</td>\n",
       "      <td>45.590236</td>\n",
       "    </tr>\n",
       "    <tr>\n",
       "      <th>9</th>\n",
       "      <td>0.100261</td>\n",
       "      <td>0.000000</td>\n",
       "      <td>-45.727998</td>\n",
       "      <td>45.727998</td>\n",
       "    </tr>\n",
       "  </tbody>\n",
       "</table>\n",
       "</div>"
      ],
      "text/plain": [
       "   fit_time  score_time  test_score  test_error\n",
       "0  0.106414    0.000000  -46.909797   46.909797\n",
       "1  0.100302    0.000000  -46.421170   46.421170\n",
       "2  0.100273    0.000000  -47.411089   47.411089\n",
       "3  0.100235    0.000000  -44.319824   44.319824\n",
       "4  0.100288    0.015648  -47.607875   47.607875\n",
       "5  0.084632    0.015649  -45.901300   45.901300\n",
       "6  0.100249    0.000000  -46.572767   46.572767\n",
       "7  0.110342    0.000000  -46.194585   46.194585\n",
       "8  0.090268    0.015614  -45.590236   45.590236\n",
       "9  0.100261    0.000000  -45.727998   45.727998"
      ]
     },
     "execution_count": 6,
     "metadata": {},
     "output_type": "execute_result"
    }
   ],
   "source": [
    "#Cross-Validation\n",
    "cv = ShuffleSplit(n_splits=40, test_size=0.3, random_state=0)\n",
    "cv_res = cross_validate(regressor, data, target, cv=cv, scoring='neg_mean_absolute_error')\n",
    "cv_res = pd.DataFrame(cv_res)\n",
    "cv_res['test_error'] = -1 * cv_res.test_score\n",
    "cv_res.head(10)"
   ]
  },
  {
   "cell_type": "code",
   "execution_count": 7,
   "id": "0d0c246a",
   "metadata": {},
   "outputs": [
    {
     "name": "stdout",
     "output_type": "stream",
     "text": [
      "Mean cross-validation error is: $46.36K ± $1.17K\n"
     ]
    },
    {
     "data": {
      "image/png": "[encoded data removed]",
      "text/plain": [
       "<Figure size 432x288 with 1 Axes>"
      ]
     },
     "metadata": {
      "needs_background": "light"
     },
     "output_type": "display_data"
    }
   ],
   "source": [
    "#plot test error distribution\n",
    "sym = '\\u00B1'\n",
    "cv_res.test_error.plot.hist(bins=10, edgecolor='black')\n",
    "plt.xlabel('Mean abosulute error in (K$)')\n",
    "_ = plt.title('test error distribution')\n",
    "error = cv_res.test_error\n",
    "print(f'Mean cross-validation error is: ${error.mean():.2f}K {sym} ${error.std():.2f}K')"
   ]
  },
  {
   "cell_type": "code",
   "execution_count": 8,
   "id": "9777e11d",
   "metadata": {},
   "outputs": [
    {
     "name": "stdout",
     "output_type": "stream",
     "text": [
      "Standard deviation of Target distribution: $115.40K\n"
     ]
    },
    {
     "data": {
      "image/png": "[encoded data removed]",
      "text/plain": [
       "<Figure size 432x288 with 1 Axes>"
      ]
     },
     "metadata": {
      "needs_background": "light"
     },
     "output_type": "display_data"
    }
   ],
   "source": [
    "#Plot target distribution\n",
    "target.plot.hist(bins=20, edgecolor='black')\n",
    "plt.xlabel('Median House Value in ($K)')\n",
    "_ = plt.title('Target Distribution')\n",
    "print(f'Standard deviation of Target distribution: ${target.std():.2f}K')"
   ]
  },
  {
   "cell_type": "code",
   "execution_count": 9,
   "id": "0c6f22d8",
   "metadata": {},
   "outputs": [
    {
     "name": "stdout",
     "output_type": "stream",
     "text": [
      "{'fit_time': array([0.13148355, 0.13802528, 0.13154769, 0.11589289, 0.13155627]), 'score_time': array([0.01562572, 0.        , 0.        , 0.        , 0.        ]), 'estimator': [DecisionTreeRegressor(random_state=0), DecisionTreeRegressor(random_state=0), DecisionTreeRegressor(random_state=0), DecisionTreeRegressor(random_state=0), DecisionTreeRegressor(random_state=0)], 'test_score': array([0.26291527, 0.41947109, 0.44492564, 0.23357874, 0.40788361])}\n"
     ]
    },
    {
     "data": {
      "text/plain": [
       "[DecisionTreeRegressor(random_state=0),\n",
       " DecisionTreeRegressor(random_state=0),\n",
       " DecisionTreeRegressor(random_state=0),\n",
       " DecisionTreeRegressor(random_state=0),\n",
       " DecisionTreeRegressor(random_state=0)]"
      ]
     },
     "execution_count": 9,
     "metadata": {},
     "output_type": "execute_result"
    }
   ],
   "source": [
    "#More regarding Cross-Validation - Check estimators\n",
    "cv = cross_validate(regressor, data, target, return_estimator=True)\n",
    "print(cv)\n",
    "cv['estimator']"
   ]
  },
  {
   "cell_type": "code",
   "execution_count": 10,
   "id": "0f47d01c",
   "metadata": {},
   "outputs": [
    {
     "data": {
      "text/plain": [
       "array([0.26291527, 0.41947109, 0.44492564, 0.23357874, 0.40788361])"
      ]
     },
     "execution_count": 10,
     "metadata": {},
     "output_type": "execute_result"
    }
   ],
   "source": [
    "#Get scores\n",
    "scores = cross_val_score(regressor, data, target)\n",
    "scores"
   ]
  },
  {
   "cell_type": "markdown",
   "id": "dae66af5",
   "metadata": {},
   "source": [
    "### Overfit-Generalization-Underfit"
   ]
  },
  {
   "cell_type": "code",
   "execution_count": 11,
   "id": "69c42f40",
   "metadata": {},
   "outputs": [],
   "source": [
    "# Crossvalidation and scores\n",
    "cv = ShuffleSplit(n_splits=30, test_size=0.2)\n",
    "cv_results = cross_validate(regressor, data, target, cv=cv, scoring='neg_mean_absolute_error',\n",
    "                           return_train_score=True, n_jobs=2)\n",
    "cv_results = pd.DataFrame(cv_results)\n",
    "scores = pd.DataFrame()\n",
    "scores[['train_error', 'test_error']] = -cv_results[['train_score', 'test_score']]"
   ]
  },
  {
   "cell_type": "code",
   "execution_count": 12,
   "id": "76868af1",
   "metadata": {},
   "outputs": [
    {
     "data": {
      "image/png": "[encoded data removed]",
      "text/plain": [
       "<Figure size 432x288 with 1 Axes>"
      ]
     },
     "metadata": {
      "needs_background": "light"
     },
     "output_type": "display_data"
    }
   ],
   "source": [
    "# Plotting error distributions\n",
    "scores.plot.hist(bins=50, edgecolor='black')\n",
    "plt.xlabel('Mean absolute error in $K')\n",
    "_ = plt.title('Train adn test error distributions - Cross-validation')"
   ]
  },
  {
   "cell_type": "markdown",
   "id": "d64e667f",
   "metadata": {},
   "source": [
    "### Validation Curve"
   ]
  },
  {
   "cell_type": "code",
   "execution_count": 13,
   "id": "fd25d7d9",
   "metadata": {},
   "outputs": [],
   "source": [
    "#Getting val and test errors for different tree depths\n",
    "max_depth = [1, 5, 10, 15, 20, 25]\n",
    "train_scores, test_scores = validation_curve(regressor, data, target, param_name='max_depth', param_range=max_depth,\n",
    "                                            cv=cv, scoring='neg_mean_absolute_error', n_jobs=2)\n",
    "train_errors, test_errors = -train_scores, -test_scores"
   ]
  },
  {
   "cell_type": "code",
   "execution_count": 14,
   "id": "e4b20eea",
   "metadata": {},
   "outputs": [
    {
     "data": {
      "image/png": "[encoded data removed]",
      "text/plain": [
       "<Figure size 432x288 with 1 Axes>"
      ]
     },
     "metadata": {
      "needs_background": "light"
     },
     "output_type": "display_data"
    }
   ],
   "source": [
    "#Plotting train and test error curves\n",
    "plt.plot(max_depth, train_errors.mean(axis=1), label='Trainig error')\n",
    "plt.plot(max_depth, test_errors.mean(axis=1), label='Testing error')\n",
    "plt.legend()\n",
    "\n",
    "plt.xlabel('Max. depth of decision tree')\n",
    "plt.ylabel('Mean abs. error in $K')\n",
    "_ = plt.title('Validation curve for tree')"
   ]
  },
  {
   "cell_type": "code",
   "execution_count": 15,
   "id": "608915d2",
   "metadata": {},
   "outputs": [
    {
     "data": {
      "image/png": "[encoded data removed]",
      "text/plain": [
       "<Figure size 432x288 with 1 Axes>"
      ]
     },
     "metadata": {
      "needs_background": "light"
     },
     "output_type": "display_data"
    }
   ],
   "source": [
    "#Plotting train and test error curves and std\n",
    "plt.errorbar(max_depth, train_errors.mean(axis=1), yerr=train_errors.std(axis=1), label='Trainig error')\n",
    "plt.errorbar(max_depth, test_errors.mean(axis=1), yerr=test_errors.std(axis=1), label='Testing error')\n",
    "plt.legend()\n",
    "\n",
    "plt.xlabel('Max. depth of decision tree')\n",
    "plt.ylabel('Mean abs. error in $K')\n",
    "_ = plt.title('Validation curve for tree')"
   ]
  },
  {
   "cell_type": "markdown",
   "id": "261aeb53",
   "metadata": {},
   "source": [
    "### Sample Size in cross-validation"
   ]
  },
  {
   "cell_type": "code",
   "execution_count": 16,
   "id": "9c6c6bc8",
   "metadata": {},
   "outputs": [
    {
     "data": {
      "text/plain": [
       "array([0.1  , 0.325, 0.55 , 0.775, 1.   ])"
      ]
     },
     "execution_count": 16,
     "metadata": {},
     "output_type": "execute_result"
    }
   ],
   "source": [
    "import numpy as np\n",
    "train_sizes = np.linspace(0.1, 1.0, num=5, endpoint=True)\n",
    "train_sizes"
   ]
  },
  {
   "cell_type": "code",
   "execution_count": 17,
   "id": "c77e1ae6",
   "metadata": {},
   "outputs": [],
   "source": [
    "cv = ShuffleSplit(n_splits=30, test_size=0.2)"
   ]
  },
  {
   "cell_type": "code",
   "execution_count": 18,
   "id": "917a2161",
   "metadata": {},
   "outputs": [],
   "source": [
    "results = learning_curve(regressor, data, target, train_sizes=train_sizes, cv=cv,\n",
    "                        scoring='neg_mean_absolute_error', n_jobs=2)\n",
    "train_size, train_scores, test_scores = results[:3]\n",
    "train_errors, test_errors = -train_scores, -test_scores"
   ]
  },
  {
   "cell_type": "code",
   "execution_count": 19,
   "id": "b1326f83",
   "metadata": {
    "scrolled": true
   },
   "outputs": [
    {
     "data": {
      "image/png": "[encoded data removed]",
      "text/plain": [
       "<Figure size 432x288 with 1 Axes>"
      ]
     },
     "metadata": {
      "needs_background": "light"
     },
     "output_type": "display_data"
    }
   ],
   "source": [
    "plt.errorbar(train_size, train_errors.mean(axis=1), \n",
    "             yerr=train_errors.std(axis=1), \n",
    "             label='Training Error')\n",
    "plt.errorbar(train_size, test_errors.mean(axis=1),\n",
    "            yerr=test_errors.std(axis=1),\n",
    "            label='Testing error')\n",
    "plt.legend()\n",
    "\n",
    "plt.xscale('log')\n",
    "plt.xlabel('# of samples in training set')\n",
    "plt.ylabel('Mean absolute error in $K')\n",
    "_ = plt.title('Decision tree learning curve')"
   ]
  },
  {
   "cell_type": "code",
   "execution_count": null,
   "id": "dd91ce58",
   "metadata": {},
   "outputs": [],
   "source": []
  }
 ],
 "metadata": {
  "kernelspec": {
   "display_name": "Python 3 (ipykernel)",
   "language": "python",
   "name": "python3"
  },
  "language_info": {
   "codemirror_mode": {
    "name": "ipython",
    "version": 3
   },
   "file_extension": ".py",
   "mimetype": "text/x-python",
   "name": "python",
   "nbconvert_exporter": "python",
   "pygments_lexer": "ipython3",
   "version": "3.9.7"
  }
 },
 "nbformat": 4,
 "nbformat_minor": 5
}
